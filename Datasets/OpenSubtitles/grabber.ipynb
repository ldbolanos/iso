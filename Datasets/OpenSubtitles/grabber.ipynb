{
 "cells": [
  {
   "cell_type": "code",
   "execution_count": 1,
   "metadata": {},
   "outputs": [],
   "source": [
    "import urllib.request as request\n",
    "import tarfile\n",
    "import os\n",
    "import parser_subtitles\n",
    "import xml.etree.ElementTree as ET\n",
    "import re\n",
    "from tqdm import tqdm\n",
    "import unicodedata\n",
    "from multiprocessing import Pool\n",
    "import json\n",
    "from spacy.lang.en import English\n",
    "import matplotlib\n",
    "import matplotlib.pyplot as plt\n",
    "import pickle\n",
    "import bcolz\n",
    "import random\n",
    "import numpy as np"
   ]
  },
  {
   "cell_type": "code",
   "execution_count": 2,
   "metadata": {},
   "outputs": [],
   "source": [
    "EOS = \"<eos>\"\n",
    "SOS = \"<sos>\"\n",
    "UNK = \"<unk>\"\n",
    "PAD = \"<pad>\"\n",
    "\n",
    "params = {\n",
    "    'seed' : 1337,\n",
    "    'glovePath' : \"/media/data/Datasets/glove\",\n",
    "    'gloveDimension': 50,\n",
    "    'vocabularyLimit' : 10000,\n",
    "    'histogramCutoff' : 80,\n",
    "    'maxSequenceLength' : 40,\n",
    "    'trainRatio' : 0.9,\n",
    "    'paramsJSONLocation' : 'subtitles_parameters.json',\n",
    "    \"datasetFile\" : 'dataset_ready.pkl',\n",
    "    'saveDataset' : True,\n",
    "    \"example_item_id\" : 19,\n",
    "}"
   ]
  },
  {
   "cell_type": "code",
   "execution_count": 3,
   "metadata": {},
   "outputs": [],
   "source": [
    "rootXMLDir = \"OpenSubtitles/xml/en/\"\n",
    "dataDir    = \"data/\"\n",
    "raw_file   = \"raw.json\""
   ]
  },
  {
   "cell_type": "code",
   "execution_count": 4,
   "metadata": {},
   "outputs": [],
   "source": [
    "random.seed(params['seed'])"
   ]
  },
  {
   "cell_type": "markdown",
   "metadata": {},
   "source": [
    "## Download the Dataset"
   ]
  },
  {
   "cell_type": "code",
   "execution_count": 5,
   "metadata": {},
   "outputs": [],
   "source": [
    "# raw dataset download URL\n",
    "url = \"http://opus.lingfil.uu.se/download.php?f=OpenSubtitles/en.tar.gz\"\n",
    "filename = url.split(\"/\")[-1]"
   ]
  },
  {
   "cell_type": "code",
   "execution_count": 6,
   "metadata": {},
   "outputs": [],
   "source": [
    "# check if we've already downloaded and extracted the file.\n",
    "flag = \"OpenSubtitles\" in os.listdir()"
   ]
  },
  {
   "cell_type": "code",
   "execution_count": 7,
   "metadata": {},
   "outputs": [],
   "source": [
    "if not flag:\n",
    "    # download dataset\n",
    "    request.urlretrieve(url, filename)"
   ]
  },
  {
   "cell_type": "code",
   "execution_count": 8,
   "metadata": {},
   "outputs": [],
   "source": [
    "if not flag:\n",
    "    # extract dataset.\n",
    "    response = os.system(\"unzip \" + filename)\n",
    "    if response == 0:\n",
    "        print(\"Successfully unzipped dataset.\")"
   ]
  },
  {
   "cell_type": "markdown",
   "metadata": {},
   "source": [
    "## Setting up Parser"
   ]
  },
  {
   "cell_type": "code",
   "execution_count": 9,
   "metadata": {},
   "outputs": [],
   "source": [
    "nlp = English()\n",
    "sentencizer = nlp.create_pipe(\"sentencizer\")\n",
    "nlp.add_pipe(sentencizer)\n",
    "tokenizer = nlp.create_pipe(\"tokenizer\")"
   ]
  },
  {
   "cell_type": "code",
   "execution_count": 10,
   "metadata": {},
   "outputs": [],
   "source": [
    "def search(directory):\n",
    "    files = []\n",
    "    for f in os.listdir(directory):\n",
    "        if os.path.isdir(directory + f):\n",
    "            files = files + search(directory + f + \"/\")\n",
    "        else:\n",
    "            if f[-4:] == \".xml\":\n",
    "                try:\n",
    "                    ents = int(directory.split(\"/\")[-2])\n",
    "                    # i want fresh stuff!\n",
    "                    if ents >= 2000:\n",
    "                        files.append(directory + f)\n",
    "                except:\n",
    "                    pass\n",
    "    return files"
   ]
  },
  {
   "cell_type": "code",
   "execution_count": 11,
   "metadata": {},
   "outputs": [
    {
     "name": "stdout",
     "output_type": "stream",
     "text": [
      "Using 1539 subtitle tracks.\n"
     ]
    }
   ],
   "source": [
    "# search for xml files in the openSubtitles folder.\n",
    "files = search(rootXMLDir)\n",
    "print(\"Using\", len(files), \"subtitle tracks.\")"
   ]
  },
  {
   "cell_type": "code",
   "execution_count": 12,
   "metadata": {},
   "outputs": [],
   "source": [
    "\"\"\"\n",
    "This is a tqdm loaded multiprocessor!\n",
    "\"\"\"\n",
    "def processItems(func, args, n_processes = 7):\n",
    "    p = Pool(n_processes)\n",
    "    res_list = []\n",
    "    with tqdm(total = len(args)) as pbar:\n",
    "        for i, res in enumerate(p.imap_unordered(func, args)):\n",
    "            pbar.update()\n",
    "            res_list.append(res)\n",
    "    pbar.close()\n",
    "    p.close()\n",
    "    p.join()\n",
    "    return res_list"
   ]
  },
  {
   "cell_type": "code",
   "execution_count": 13,
   "metadata": {},
   "outputs": [],
   "source": [
    "def extractTokenizedPhrases(xmlFilePath):\n",
    "    tree = ET.parse(xmlFilePath)\n",
    "    root = tree.getroot()\n",
    "    \n",
    "    sequences = []\n",
    "    # iterates through the lines in the xml file.\n",
    "    for child in root.findall('s'):\n",
    "        line = []\n",
    "        for node in child.getiterator():\n",
    "            # Although it is tokenised, I want to reduce the\n",
    "            # bias of the dataset so we tokenise with spacy instead.\n",
    "            if node.tag == 'w':\n",
    "                # normalise unicode into comprehensible ascii\n",
    "                token = unicodedata.normalize('NFKD', node.text)\n",
    "                token = token.encode('ascii','ignore').decode('UTF-8')\n",
    "                token = str(token).replace('-', '')\n",
    "                if len(token) > 0:\n",
    "                    line.append(token)\n",
    "        line = \" \".join(line)\n",
    "        line = [str(i).lower() for i in tokenizer(str(line))]\n",
    "\n",
    "        if len(line) > 0:\n",
    "            if line[0][0] != '[' and line[-1][-1] != ':':\n",
    "                sequences.append(line)\n",
    "    return sequences"
   ]
  },
  {
   "cell_type": "code",
   "execution_count": 14,
   "metadata": {},
   "outputs": [
    {
     "name": "stdout",
     "output_type": "stream",
     "text": [
      "loaded raw.json\n"
     ]
    }
   ],
   "source": [
    "if raw_file not in os.listdir():\n",
    "    groups = processItems(extractTokenizedPhrases, files, n_processes = 7)\n",
    "    # save raw lines into json incase we want to use it again\n",
    "    with open(raw_file, 'w') as fp:\n",
    "        json.dump(groups, fp)\n",
    "    print(\"saved\", raw_file)\n",
    "else:\n",
    "    with open(raw_file, 'r') as fp:\n",
    "        groups = json.load(fp)\n",
    "    print(\"loaded\", raw_file)"
   ]
  },
  {
   "cell_type": "markdown",
   "metadata": {},
   "source": [
    "## Loading Glove"
   ]
  },
  {
   "cell_type": "code",
   "execution_count": 15,
   "metadata": {},
   "outputs": [],
   "source": [
    "def loadGlove(glove_path, dim=50):\n",
    "    acceptedDimensions = [50, 100, 200, 300]\n",
    "    if dim not in acceptedDimensions:\n",
    "        print(\"You didn't choose a right dimension.\")\n",
    "        print(\"Try one of these:\", acceptedDimensions)\n",
    "        return None\n",
    "    pickleWordFile = f'{glove_path}/6B.'+str(dim)+'_words.pkl'\n",
    "    pickleIdFile   = f'{glove_path}/6B.'+str(dim)+'_idx.pkl'\n",
    "    pickleDatFile  = f'{glove_path}/glove.6B.'+str(dim)+'.dat'\n",
    "    pickleDataset  = f'{glove_path}/glove.6B.'+str(dim)+'d.txt'\n",
    "    \n",
    "    if os.path.isfile(pickleWordFile):\n",
    "        # check if we've made the outputs before\n",
    "        print(\"Preloading files..\", end=\" \")\n",
    "        vectors = bcolz.open(pickleDatFile)[:]\n",
    "        words = pickle.load(open(pickleWordFile, 'rb'))\n",
    "        word2idx = pickle.load(open(pickleIdFile, 'rb'))\n",
    "        glove = {w: vectors[word2idx[w]] for w in words}\n",
    "        print(\"Done.\")\n",
    "        return glove\n",
    "    else:\n",
    "        print(\"Doesn't work.\", end=\" \")"
   ]
  },
  {
   "cell_type": "code",
   "execution_count": 16,
   "metadata": {},
   "outputs": [
    {
     "name": "stdout",
     "output_type": "stream",
     "text": [
      "Preloading files.. Done.\n"
     ]
    }
   ],
   "source": [
    "glove = loadGlove(params['glovePath'], dim=params['gloveDimension'])\n",
    "gloveWords = glove.keys()"
   ]
  },
  {
   "cell_type": "code",
   "execution_count": 17,
   "metadata": {},
   "outputs": [
    {
     "name": "stderr",
     "output_type": "stream",
     "text": [
      "100%|██████████| 1539/1539 [00:00<00:00, 3693.06it/s]\n"
     ]
    }
   ],
   "source": [
    "# let's look at the distribution of sentence lengths in our dataset.\n",
    "lengths = {}\n",
    "for group in tqdm(groups):\n",
    "    for sentence in group:\n",
    "        length = len(sentence)\n",
    "        if length not in lengths:\n",
    "            lengths[length] = 0\n",
    "        lengths[length] += 1"
   ]
  },
  {
   "cell_type": "code",
   "execution_count": 18,
   "metadata": {},
   "outputs": [
    {
     "data": {
      "image/png": "[encoded data removed]",
      "text/plain": [
       "<Figure size 432x288 with 1 Axes>"
      ]
     },
     "metadata": {
      "needs_background": "light"
     },
     "output_type": "display_data"
    }
   ],
   "source": [
    "length_x = sorted([key for key in lengths.keys()])\n",
    "length_y = [lengths[x] for x in length_x]\n",
    "# threshold limit\n",
    "length_x = length_x[:params['histogramCutoff']]\n",
    "length_y = length_y[:params['histogramCutoff']]\n",
    "plt.bar(length_x,length_y)\n",
    "plt.title(\"Histogram of sentence lengths\")\n",
    "plt.xlabel(\"Length\")\n",
    "plt.ylabel(\"Frequency\")\n",
    "plt.show()"
   ]
  },
  {
   "cell_type": "markdown",
   "metadata": {},
   "source": [
    "So it looks like setting the cutoff to 40 is good."
   ]
  },
  {
   "cell_type": "code",
   "execution_count": 19,
   "metadata": {},
   "outputs": [
    {
     "name": "stderr",
     "output_type": "stream",
     "text": [
      "100%|██████████| 1539/1539 [00:02<00:00, 532.43it/s]\n"
     ]
    }
   ],
   "source": [
    "# let's look at the vocabulary size\n",
    "tokens = {}\n",
    "for group in tqdm(groups):\n",
    "    for sentence in group:\n",
    "        for token in sentence:\n",
    "            if token not in tokens:\n",
    "                tokens[token] = 0\n",
    "            tokens[token] += 1"
   ]
  },
  {
   "cell_type": "code",
   "execution_count": 20,
   "metadata": {},
   "outputs": [
    {
     "name": "stdout",
     "output_type": "stream",
     "text": [
      "There are 90085 tokens.\n"
     ]
    }
   ],
   "source": [
    "print(\"There are\",len(tokens),\"tokens.\")"
   ]
  },
  {
   "cell_type": "code",
   "execution_count": 21,
   "metadata": {},
   "outputs": [],
   "source": [
    "# plot histogram of frequency of words\n",
    "token_frequency = {}\n",
    "for token in tokens:\n",
    "    freq = tokens[token]\n",
    "    if freq not in token_frequency:\n",
    "        token_frequency[freq] = 0\n",
    "    token_frequency[freq] += 1"
   ]
  },
  {
   "cell_type": "code",
   "execution_count": 22,
   "metadata": {},
   "outputs": [],
   "source": [
    "knowns   = [token for token in tokens if token in glove]\n",
    "unknowns = [token for token in tokens if token not in glove]\n",
    "wordOrder = list(sorted(knowns, key=lambda x: tokens[x], reverse=True))"
   ]
  },
  {
   "cell_type": "code",
   "execution_count": 23,
   "metadata": {},
   "outputs": [
    {
     "name": "stdout",
     "output_type": "stream",
     "text": [
      "58834 knowns, 31251 unknowns.\n"
     ]
    }
   ],
   "source": [
    "print(len(knowns),\"knowns,\", len(unknowns),\"unknowns.\")"
   ]
  },
  {
   "cell_type": "code",
   "execution_count": 24,
   "metadata": {},
   "outputs": [],
   "source": [
    "# setup vocabulary\n",
    "cappedWordOrder = wordOrder[:params['vocabularyLimit']]"
   ]
  },
  {
   "cell_type": "code",
   "execution_count": 25,
   "metadata": {},
   "outputs": [],
   "source": [
    "# setup weights for vocabulary\n",
    "weights = [glove[token] for token in cappedWordOrder]"
   ]
  },
  {
   "cell_type": "code",
   "execution_count": 26,
   "metadata": {},
   "outputs": [],
   "source": [
    "# add tags and their weights\n",
    "additions = [PAD, UNK, SOS, EOS]\n",
    "for tag in additions[::-1]:\n",
    "    weight = glove[tag[1:-1]]\n",
    "    weights = [weight] + weights\n",
    "    cappedWordOrder = [tag] + cappedWordOrder"
   ]
  },
  {
   "cell_type": "code",
   "execution_count": 27,
   "metadata": {},
   "outputs": [],
   "source": [
    "# create word2id and id2word\n",
    "word2id, id2word = {}, {}\n",
    "for i in range(len(cappedWordOrder)):\n",
    "    word2id[cappedWordOrder[i]] = i\n",
    "    id2word[i] = cappedWordOrder[i]"
   ]
  },
  {
   "cell_type": "code",
   "execution_count": 28,
   "metadata": {},
   "outputs": [],
   "source": [
    "def addTags(group, eos=EOS, sos=SOS):\n",
    "    return [[sos] + sentence + [eos] for sentence in group]"
   ]
  },
  {
   "cell_type": "code",
   "execution_count": 29,
   "metadata": {},
   "outputs": [
    {
     "name": "stderr",
     "output_type": "stream",
     "text": [
      "100%|██████████| 1539/1539 [00:04<00:00, 366.28it/s]\n"
     ]
    }
   ],
   "source": [
    "groups = processItems(addTags, groups, n_processes=7)"
   ]
  },
  {
   "cell_type": "code",
   "execution_count": 30,
   "metadata": {},
   "outputs": [],
   "source": [
    "def doW2I(word, w2i=word2id, unk=UNK):\n",
    "    if word in word2id:\n",
    "        return word2id[word]\n",
    "    return word2id[unk]\n",
    "\n",
    "def sequenceToID(group, w2i=word2id, unk=UNK):\n",
    "    return [[doW2I(token, w2i, unk) for token in sentence] for sentence in group]"
   ]
  },
  {
   "cell_type": "code",
   "execution_count": 31,
   "metadata": {},
   "outputs": [
    {
     "name": "stderr",
     "output_type": "stream",
     "text": [
      "100%|██████████| 1539/1539 [00:03<00:00, 405.35it/s]\n"
     ]
    }
   ],
   "source": [
    "\"\"\"\n",
    "Convert sequence tokens to their respective IDs\n",
    "\"\"\"\n",
    "groups = processItems(sequenceToID, groups, n_processes=7)"
   ]
  },
  {
   "cell_type": "code",
   "execution_count": 32,
   "metadata": {},
   "outputs": [
    {
     "name": "stderr",
     "output_type": "stream",
     "text": [
      "100%|██████████| 1539/1539 [00:01<00:00, 817.34it/s]\n"
     ]
    }
   ],
   "source": [
    "\"\"\"\n",
    "Now we're looking at the ratio of UNK tokens in the lines.\n",
    "\"\"\"\n",
    "unk_ratios = {}\n",
    "for group in tqdm(groups):\n",
    "    for line in group:\n",
    "        ratio = line.count(word2id[UNK])/len(line)\n",
    "        ratio = round(ratio, 2)\n",
    "        if ratio not in unk_ratios:\n",
    "            unk_ratios[ratio] = 0\n",
    "        unk_ratios[ratio] += 1"
   ]
  },
  {
   "cell_type": "code",
   "execution_count": 33,
   "metadata": {},
   "outputs": [
    {
     "data": {
      "image/png": "[encoded data removed]",
      "text/plain": [
       "<Figure size 432x288 with 1 Axes>"
      ]
     },
     "metadata": {
      "needs_background": "light"
     },
     "output_type": "display_data"
    }
   ],
   "source": [
    "ratio_x = [i/100 for i in range(0, 100, 1)]\n",
    "ratio_y = [unk_ratios[i] if i in unk_ratios else 0.0 for i in ratio_x]\n",
    "ratio_x = [round(i * 100,0) for i in ratio_x]\n",
    "\n",
    "plt.bar(ratio_x[1:],ratio_y[1:])\n",
    "plt.title(\"Histogram of UNK token ratios in sentences\")\n",
    "plt.xlabel(\"Ratio (%)\")\n",
    "plt.ylabel(\"Frequency\")\n",
    "plt.show()"
   ]
  },
  {
   "cell_type": "code",
   "execution_count": 34,
   "metadata": {},
   "outputs": [],
   "source": [
    "def countLines(groups):\n",
    "    return sum([len(group) for group in groups])"
   ]
  },
  {
   "cell_type": "markdown",
   "metadata": {},
   "source": [
    "# Processing for Language Models"
   ]
  },
  {
   "cell_type": "code",
   "execution_count": 35,
   "metadata": {},
   "outputs": [],
   "source": [
    "# create input and output sequences of each subtitle xml\n",
    "def createSequences(sequences):\n",
    "    return [[sequences[i], sequences[i+1]] for i in range(len(sequences)-1)]"
   ]
  },
  {
   "cell_type": "code",
   "execution_count": 36,
   "metadata": {},
   "outputs": [
    {
     "name": "stderr",
     "output_type": "stream",
     "text": [
      "100%|██████████| 1539/1539 [00:03<00:00, 469.85it/s]\n"
     ]
    }
   ],
   "source": [
    "# batch operations with multiprocessing\n",
    "sequences = processItems(createSequences, groups, n_processes=7)"
   ]
  },
  {
   "cell_type": "code",
   "execution_count": 37,
   "metadata": {},
   "outputs": [
    {
     "name": "stderr",
     "output_type": "stream",
     "text": [
      "100%|██████████| 1539/1539 [00:00<00:00, 63551.31it/s]\n"
     ]
    }
   ],
   "source": [
    "# concatenate the sequences together\n",
    "dataset = []\n",
    "for sequence in tqdm(sequences):\n",
    "    dataset += sequence"
   ]
  },
  {
   "cell_type": "code",
   "execution_count": 38,
   "metadata": {},
   "outputs": [
    {
     "data": {
      "text/plain": [
       "1771082"
      ]
     },
     "execution_count": 38,
     "metadata": {},
     "output_type": "execute_result"
    }
   ],
   "source": [
    "len(dataset)"
   ]
  },
  {
   "cell_type": "code",
   "execution_count": 39,
   "metadata": {},
   "outputs": [
    {
     "name": "stderr",
     "output_type": "stream",
     "text": [
      "100%|██████████| 1771082/1771082 [00:01<00:00, 1060917.20it/s]\n"
     ]
    }
   ],
   "source": [
    "# remove sequences where the unk ratio is too high\n",
    "clean_seq = []\n",
    "for lines in tqdm(dataset):\n",
    "    ratio_inp = lines[0].count(word2id[UNK])/len(lines[0])\n",
    "    ratio_ans = lines[1].count(word2id[UNK])/len(lines[1])\n",
    "    if ratio_ans <= 0.1 and ratio_inp <= 0.1:\n",
    "        clean_seq.append(lines)\n",
    "dataset = clean_seq"
   ]
  },
  {
   "cell_type": "code",
   "execution_count": 40,
   "metadata": {},
   "outputs": [
    {
     "data": {
      "text/plain": [
       "1473881"
      ]
     },
     "execution_count": 40,
     "metadata": {},
     "output_type": "execute_result"
    }
   ],
   "source": [
    "len(dataset)"
   ]
  },
  {
   "cell_type": "code",
   "execution_count": 41,
   "metadata": {},
   "outputs": [
    {
     "name": "stderr",
     "output_type": "stream",
     "text": [
      "100%|██████████| 1473881/1473881 [00:00<00:00, 2081038.18it/s]\n"
     ]
    }
   ],
   "source": [
    "# apply the cutoff\n",
    "remainder = []\n",
    "for lines in tqdm(dataset):\n",
    "    if len(lines[0]) <= params['maxSequenceLength'] and len(lines[1]) <= params['maxSequenceLength']:\n",
    "        remainder.append(lines)\n",
    "dataset = remainder"
   ]
  },
  {
   "cell_type": "code",
   "execution_count": 42,
   "metadata": {},
   "outputs": [
    {
     "data": {
      "text/plain": [
       "1468105"
      ]
     },
     "execution_count": 42,
     "metadata": {},
     "output_type": "execute_result"
    }
   ],
   "source": [
    "len(dataset)"
   ]
  },
  {
   "cell_type": "code",
   "execution_count": 43,
   "metadata": {},
   "outputs": [],
   "source": [
    "dists = {}\n",
    "for lines in dataset:\n",
    "    l = len(lines[0]) \n",
    "    if l not in dists:\n",
    "        dists[l] = 0\n",
    "    dists[l] += 1\n",
    "for key in dists:\n",
    "    if key > params['maxSequenceLength']:\n",
    "        print(\"key:\", key)"
   ]
  },
  {
   "cell_type": "code",
   "execution_count": 44,
   "metadata": {},
   "outputs": [
    {
     "name": "stdout",
     "output_type": "stream",
     "text": [
      "<sos> your paycheck ? <eos> -> <sos> back off tucker , you don ' t sketch regulations . <eos>\n",
      "<sos> back off tucker , you don ' t sketch regulations . <eos> -> <sos> what regulations ? <eos>\n",
      "<sos> what regulations ? <eos> -> <sos> lock out devices must be in place during cleaning and maintenance of all heavy <unk> , ( motion <unk> ) <eos>\n",
      "<sos> lock out devices must be in place during cleaning and maintenance of all heavy <unk> , ( motion <unk> ) <eos> -> <sos> ya ! <eos>\n",
      "<sos> ya ! <eos> -> <sos> write to your <unk> and hurry that up . <eos>\n",
      "<sos> and he ' s like , you know , babe this babe that ... <eos> -> <sos> chatting like mother fucking barry white . <eos>\n",
      "<sos> chatting like mother fucking barry white . <eos> -> <sos> talking about what he is going to do to her , and how to make her <unk> feel and all that . <eos>\n",
      "<sos> talking about what he is going to do to her , and how to make her <unk> feel and all that . <eos> -> <sos> that is right . <eos>\n",
      "<sos> that is right . <eos> -> <sos> so then , she stopped <eos>\n",
      "<sos> so then , she stopped <eos> -> <sos> she looked back at him with these big puppy eyes she ' s like ... <eos>\n"
     ]
    }
   ],
   "source": [
    "# generate example sequences so we have\n",
    "# an idea of what the dataset looks like.\n",
    "start = params['example_item_id']\n",
    "examples = dataset[start:start+10]\n",
    "examples = [[\" \".join([id2word[word] for word in line]) for line in lines] for lines in examples]\n",
    "for i in examples:\n",
    "    print(i[0], \"->\", i[1])"
   ]
  },
  {
   "cell_type": "code",
   "execution_count": 45,
   "metadata": {},
   "outputs": [],
   "source": [
    "# split the dataset into training and validation data.\n",
    "ratio = round(len(dataset) * params['trainRatio'])\n",
    "random.shuffle(dataset)\n",
    "train = dataset[:ratio]\n",
    "validation = dataset[ratio:]"
   ]
  },
  {
   "cell_type": "code",
   "execution_count": 46,
   "metadata": {},
   "outputs": [
    {
     "name": "stdout",
     "output_type": "stream",
     "text": [
      "1321294 146811\n"
     ]
    }
   ],
   "source": [
    "print(len(train), len(validation))"
   ]
  },
  {
   "cell_type": "code",
   "execution_count": 47,
   "metadata": {},
   "outputs": [],
   "source": [
    "# time to dump the dataset\n",
    "container = {\n",
    "    'id2word' : id2word,\n",
    "    'word2id' : word2id,\n",
    "    'train' : train,\n",
    "    'validation': validation,\n",
    "    'weights' : np.matrix(weights),\n",
    "    'cutoff' : params['maxSequenceLength']\n",
    "}"
   ]
  },
  {
   "cell_type": "code",
   "execution_count": 48,
   "metadata": {},
   "outputs": [
    {
     "name": "stdout",
     "output_type": "stream",
     "text": [
      "Saved! 64.6 MB\n",
      "Save location: dataset_ready.pkl\n",
      "dataset parameters save location: subtitles_parameters.json\n"
     ]
    }
   ],
   "source": [
    "def convert_bytes(num):\n",
    "    \"\"\"\n",
    "    this function will convert bytes to MB.... GB... etc\n",
    "    \"\"\"\n",
    "    for x in ['bytes', 'KB', 'MB', 'GB', 'TB']:\n",
    "        if num < 1024.0:\n",
    "            return \"%3.1f %s\" % (num, x)\n",
    "        num /= 1024.0\n",
    "\n",
    "if params['saveDataset']:\n",
    "    # save the dataset to a pickle file.\n",
    "    output = open(params['datasetFile'], 'wb')\n",
    "    pickle.dump(container, output)\n",
    "    output.close()\n",
    "\n",
    "    # save dataset preprocessing parameters\n",
    "    params['example_filtering'] = examples\n",
    "    with open(params['paramsJSONLocation'], 'w') as outfile:\n",
    "        json.dump(params, outfile)\n",
    "\n",
    "    print(\"Saved!\", convert_bytes(os.stat(params['datasetFile']).st_size))\n",
    "    print(\"Save location:\", params['datasetFile'])\n",
    "    print(\"dataset parameters save location:\", params['paramsJSONLocation'])"
   ]
  }
 ],
 "metadata": {
  "kernelspec": {
   "display_name": "Python 3",
   "language": "python",
   "name": "python3"
  },
  "language_info": {
   "codemirror_mode": {
    "name": "ipython",
    "version": 3
   },
   "file_extension": ".py",
   "mimetype": "text/x-python",
   "name": "python",
   "nbconvert_exporter": "python",
   "pygments_lexer": "ipython3",
   "version": "3.6.7"
  }
 },
 "nbformat": 4,
 "nbformat_minor": 2
}
