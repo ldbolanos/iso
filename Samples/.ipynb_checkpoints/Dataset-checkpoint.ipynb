{
 "cells": [
  {
   "cell_type": "code",
   "execution_count": 1,
   "metadata": {},
   "outputs": [],
   "source": [
    "import os\n",
    "import json"
   ]
  },
  {
   "cell_type": "code",
   "execution_count": 2,
   "metadata": {},
   "outputs": [],
   "source": [
    "filepath = \"/media/t/Scratch/iso/Electronics_5.json\""
   ]
  },
  {
   "cell_type": "code",
   "execution_count": 3,
   "metadata": {},
   "outputs": [
    {
     "name": "stdout",
     "output_type": "stream",
     "text": [
      "Loading json file (it's pretty dirty.)\n",
      "loaded data into memory.\n",
      "\n",
      "Loaded 100.099407999933756657\r"
     ]
    }
   ],
   "source": [
    "dataset = {}\n",
    "print(\"Loading json file (it's pretty dirty.)\")\n",
    "dirty = []\n",
    "\n",
    "dist = {}\n",
    "\n",
    "with open(filepath) as raw:\n",
    "    print(\"loaded data into memory.\\n\")\n",
    "    entries = raw.read().split('\\n')\n",
    "    size = len(entries)\n",
    "    count = 0\n",
    "    for i in entries:\n",
    "        count += 1\n",
    "        try:\n",
    "            entry = json.loads(i)\n",
    "            itemID = entry['asin']\n",
    "            if itemID not in dataset:\n",
    "                dataset[itemID] = [entry]\n",
    "                dist[itemID] = 1\n",
    "            else:\n",
    "                dataset[itemID].append(entry)\n",
    "                dist[itemID] += 1\n",
    "            \n",
    "        except:\n",
    "            dirty.append(i)\n",
    "            \n",
    "        msg = \"Loaded \" + str((count/size)*100) + \"\\r\"\n",
    "        print(msg, end='')"
   ]
  },
  {
   "cell_type": "code",
   "execution_count": 9,
   "metadata": {},
   "outputs": [
    {
     "name": "stdout",
     "output_type": "stream",
     "text": [
      "total: 1689188\n",
      "products: 63001\n",
      "mean: 26.81208234789924\n"
     ]
    }
   ],
   "source": [
    "total = 0\n",
    "prods = 0\n",
    "for key in dist:\n",
    "    prods += 1\n",
    "    ent = dist[key]\n",
    "    total += ent\n",
    "print(\"total:\",total)\n",
    "print(\"products:\", prods)\n",
    "print(\"mean:\", total/prods)"
   ]
  },
  {
   "cell_type": "code",
   "execution_count": 10,
   "metadata": {},
   "outputs": [],
   "source": [
    "import matplotlib.pyplot as plt\n",
    "import numpy as np"
   ]
  },
  {
   "cell_type": "code",
   "execution_count": 43,
   "metadata": {},
   "outputs": [
    {
     "name": "stdout",
     "output_type": "stream",
     "text": [
      "[   5    5    5 ... 3798 4143 4915]\n"
     ]
    }
   ],
   "source": [
    "distributions = []\n",
    "for key in dist:\n",
    "    distributions.append(dist[key])\n",
    "distributions = sorted(distributions)\n",
    "distributions = np.array(distributions)\n",
    "print(distributions)"
   ]
  },
  {
   "cell_type": "code",
   "execution_count": 51,
   "metadata": {},
   "outputs": [],
   "source": [
    "d = distributions[::2].copy()"
   ]
  },
  {
   "cell_type": "code",
   "execution_count": 52,
   "metadata": {},
   "outputs": [
    {
     "data": {
      "image/png": "[encoded data removed]",
      "text/plain": [
       "<Figure size 432x288 with 1 Axes>"
      ]
     },
     "metadata": {},
     "output_type": "display_data"
    }
   ],
   "source": [
    "ids = np.linspace(1,d.size, d.size, dtype = int)\n",
    "plt.hist(ids, d)\n",
    "plt.show()"
   ]
  },
  {
   "cell_type": "code",
   "execution_count": null,
   "metadata": {},
   "outputs": [],
   "source": []
  },
  {
   "cell_type": "code",
   "execution_count": null,
   "metadata": {},
   "outputs": [],
   "source": []
  }
 ],
 "metadata": {
  "kernelspec": {
   "display_name": "Python 3",
   "language": "python",
   "name": "python3"
  },
  "language_info": {
   "codemirror_mode": {
    "name": "ipython",
    "version": 3
   },
   "file_extension": ".py",
   "mimetype": "text/x-python",
   "name": "python",
   "nbconvert_exporter": "python",
   "pygments_lexer": "ipython3",
   "version": "3.5.2"
  }
 },
 "nbformat": 4,
 "nbformat_minor": 2
}
