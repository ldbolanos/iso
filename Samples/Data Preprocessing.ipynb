{
 "cells": [
  {
   "cell_type": "code",
   "execution_count": 1,
   "metadata": {},
   "outputs": [],
   "source": [
    "import os\n",
    "import json\n",
    "import time\n",
    "import gzip\n",
    "import bcolz\n",
    "import numpy as np\n",
    "import re\n",
    "import copy\n",
    "from multiprocessing import Pool\n",
    "from tqdm import tqdm\n",
    "import matplotlib\n",
    "import matplotlib.pyplot as plt\n",
    "import pickle"
   ]
  },
  {
   "cell_type": "markdown",
   "metadata": {},
   "source": [
    "## Loading the Dataset"
   ]
  },
  {
   "cell_type": "code",
   "execution_count": 2,
   "metadata": {},
   "outputs": [
    {
     "name": "stdout",
     "output_type": "stream",
     "text": [
      "Loaded the dataset in 6.88 seconds.\n"
     ]
    }
   ],
   "source": [
    "pickleFile = '../Datasets/Reviews/dataset.pkl'\n",
    "start = time.clock()\n",
    "dataset = pickle.load( open( pickleFile, \"rb\" ))\n",
    "duration = time.clock() - start\n",
    "print(\"Loaded the dataset in\", round(duration,2), \"seconds.\")"
   ]
  },
  {
   "cell_type": "code",
   "execution_count": 3,
   "metadata": {},
   "outputs": [
    {
     "name": "stdout",
     "output_type": "stream",
     "text": [
      "There are 63001 amazon items.\n"
     ]
    }
   ],
   "source": [
    "print(\"There are\",len(dataset), \"amazon items.\")"
   ]
  },
  {
   "cell_type": "markdown",
   "metadata": {},
   "source": [
    "## Loading Glove Words"
   ]
  },
  {
   "cell_type": "code",
   "execution_count": 4,
   "metadata": {},
   "outputs": [
    {
     "name": "stdout",
     "output_type": "stream",
     "text": [
      "Preloading files.. Done.\n"
     ]
    }
   ],
   "source": [
    "def loadGlove(glove_path, dim=50):\n",
    "    acceptedDimensions = [50, 100, 200, 300]\n",
    "    if dim not in acceptedDimensions:\n",
    "        print(\"You didn't choose a right dimension.\")\n",
    "        print(\"Try one of these:\", acceptedDimensions)\n",
    "        return None\n",
    "    pickleWordFile = f'{glove_path}/6B.'+str(dim)+'_words.pkl'\n",
    "    pickleIdFile   = f'{glove_path}/6B.'+str(dim)+'_idx.pkl'\n",
    "    pickleDatFile  = f'{glove_path}/glove.6B.'+str(dim)+'.dat'\n",
    "    pickleDataset  = f'{glove_path}/glove.6B.'+str(dim)+'d.txt'\n",
    "    \n",
    "    if os.path.isfile(pickleWordFile):\n",
    "        # check if we've made the outputs before\n",
    "        print(\"Preloading files..\", end=\" \")\n",
    "        vectors = bcolz.open(pickleDatFile)[:]\n",
    "        words = pickle.load(open(pickleWordFile, 'rb'))\n",
    "        word2idx = pickle.load(open(pickleIdFile, 'rb'))\n",
    "        glove = {w: vectors[word2idx[w]] for w in words}\n",
    "        print(\"Done.\")\n",
    "        return glove\n",
    "    else:\n",
    "        print(\"Doesn't work.\", end=\" \")\n",
    "\n",
    "\n",
    "gloveDimension = 50\n",
    "glovePath = \"/media/data/Datasets/glove\"\n",
    "glove = loadGlove(glovePath, dim=gloveDimension)\n",
    "gloveWords = glove.keys()"
   ]
  },
  {
   "cell_type": "code",
   "execution_count": 5,
   "metadata": {},
   "outputs": [
    {
     "name": "stdout",
     "output_type": "stream",
     "text": [
      "Glove Vocabulary Size: 400000\n"
     ]
    }
   ],
   "source": [
    "print(\"Glove Vocabulary Size:\",len(gloveWords))"
   ]
  },
  {
   "cell_type": "markdown",
   "metadata": {},
   "source": [
    "## Preprocessing Data"
   ]
  },
  {
   "cell_type": "code",
   "execution_count": 6,
   "metadata": {},
   "outputs": [],
   "source": [
    "def preprocess(paragraph):\n",
    "    # split paragraph by full stops\n",
    "    paragraph = paragraph.lower()\n",
    "    paragraph = re.sub(\"([,!?()-+&£$.%*'])\", r' \\1 ', paragraph)\n",
    "    paragraph = re.sub('\\s{2,}', ' ', paragraph)\n",
    "    paragraph = paragraph.split(\" \")\n",
    "    # remove empty string\n",
    "    return paragraph\n",
    "\n",
    "def padSentence(words, maxLength, eosString=\"<eos>\", padString=\"<pad>\"):\n",
    "    words = words[:maxLength-1] + [eosString]\n",
    "    return words + [padString for i in range(maxLength - len(words))]\n",
    "    \n",
    "def discretise(value, word):\n",
    "    return word + \"_\" + str(value)"
   ]
  },
  {
   "cell_type": "code",
   "execution_count": 7,
   "metadata": {},
   "outputs": [],
   "source": [
    "def handleItem(itemID, dataset=dataset, printDebug=False):\n",
    "    \"\"\"\n",
    "    Filters words out based on whether they're in the GloVe dataset or not.\n",
    "    \n",
    "    Parameters:\n",
    "    \n",
    "    \"\"\"\n",
    "\n",
    "\n",
    "    reviews = []\n",
    "    for i in range(len(dataset[itemID])):\n",
    "        # initialise variables\n",
    "        entry = dataset[itemID][i]\n",
    "        reviewerID = entry['reviewerID']\n",
    "\n",
    "        \"\"\"\n",
    "        Review Text Processing\n",
    "        \"\"\"\n",
    "        # split sentences\n",
    "        sentences = re.split(r'(?<=\\.) ', entry['reviewText'])\n",
    "        for s in range(len(sentences)):\n",
    "            sentence = sentences[s]\n",
    "            sentences[s] = list(filter(None, preprocess(sentence)))\n",
    "            \n",
    "        # preprocess summary\n",
    "        summary = list(filter(None,preprocess(entry['summary'])))\n",
    "        \n",
    "        # merge summary sequence and review sequences together into overall entries.\n",
    "        if len(sentences) < 2:\n",
    "            entries =  [[\"<sos>\"] + summary + [\"<sor>\"]] + [sentences[0] + [\"<eos>\"]]\n",
    "        else:\n",
    "            entries =  [[\"<sos>\"] + summary] + [sentences[0]] + sentences[1:-1] + [sentences[-1] + [\"<eos>\"]]\n",
    "\n",
    "        # setup review parameters\n",
    "        rating   = [discretise(entry['overall'], \"rating\")]\n",
    "\n",
    "        # compute polarity\n",
    "        good, bad = entry['helpful'][0], entry['helpful'][1]\n",
    "        try:\n",
    "            polarity = (good - bad) / (good + bad)\n",
    "        except ZeroDivisionError:\n",
    "            polarity = 0\n",
    "        polarity = np.tanh(polarity)\n",
    "        polarity = np.round(polarity, 1)\n",
    "        polarity = [discretise(polarity, \"polarity\")]\n",
    "\n",
    "        # create identity/conditioning entry\n",
    "        identifier = itemID.lower()\n",
    "        identity = [l for l in identifier] + rating + polarity\n",
    "\n",
    "        # add conditionining entry to each entry\n",
    "        formatted = [identity + entry for entry in entries]\n",
    "\n",
    "\n",
    "        if printDebug:\n",
    "            print(\"ENTRY:\",dataset[itemID][i])\n",
    "            print(\"IDENTITY:\",identity)\n",
    "            \n",
    "            su = len(identity)\n",
    "            print()\n",
    "            for entry in formatted:\n",
    "                print(entry[su:])\n",
    "            print()\n",
    "\n",
    "        for i in range(len(formatted)-1):\n",
    "            reviews.append([formatted[i], formatted[i+1]])\n",
    "        if printDebug:\n",
    "            break\n",
    "            \n",
    "    return reviews"
   ]
  },
  {
   "cell_type": "code",
   "execution_count": 8,
   "metadata": {},
   "outputs": [
    {
     "name": "stdout",
     "output_type": "stream",
     "text": [
      "ENTRY: {'reviewerID': 'ARUQAU51OAMTQ', 'asin': '9625993428', 'reviewerName': 'A. Jackson', 'helpful': [0, 0], 'reviewText': \"I bought this for my iPod 2G. I wanted to take advantage of Skype calling my family. The mic itself is small, about as big as a horse pill or a paperclip to you youngins who don't know that a horse pill is any big a** pill you try to swallow...LOL I have a little pouch in my purse I keep it in so I don't lose it...because you will lose it. The sound was good when I recorded a voice memo. But you have to remove it to hear anything back. THAT's the kicker!It's a restriction of the device, not the mic. I thought I could use the mic to speak and my Bluetooth headphones to listen at the same time. No such luck. You have to get the iPod headphones with built in mic/recorder to do that. So all I can use this for is to record stuff and listen later. But it was cheap, so it's still a cool addition to my toys. Oh, and I also got the iPod headphones with mic... those too live in my little pouch of goodies...LOL\", 'overall': 5.0, 'summary': 'Pretty darn cool mic for iPod 2G', 'unixReviewTime': 1316736000, 'reviewTime': '09 23, 2011'}\n",
      "IDENTITY: ['9', '6', '2', '5', '9', '9', '3', '4', '2', '8', 'rating_5.0', 'polarity_0.0']\n",
      "\n",
      "['<sos>', 'pretty', 'darn', 'cool', 'mic', 'for', 'ipod', '2g']\n",
      "['i', 'bought', 'this', 'for', 'my', 'ipod', '2g', '.']\n",
      "['i', 'wanted', 'to', 'take', 'advantage', 'of', 'skype', 'calling', 'my', 'family', '.']\n",
      "['the', 'mic', 'itself', 'is', 'small', ',', 'about', 'as', 'big', 'as', 'a', 'horse', 'pill', 'or', 'a', 'paperclip', 'to', 'you', 'youngins', 'who', 'don', \"'\", 't', 'know', 'that', 'a', 'horse', 'pill', 'is', 'any', 'big', 'a', '*', '*', 'pill', 'you', 'try', 'to', 'swallow', '.', '.', '.', 'lol', 'i', 'have', 'a', 'little', 'pouch', 'in', 'my', 'purse', 'i', 'keep', 'it', 'in', 'so', 'i', 'don', \"'\", 't', 'lose', 'it', '.', '.', '.', 'because', 'you', 'will', 'lose', 'it', '.']\n",
      "['the', 'sound', 'was', 'good', 'when', 'i', 'recorded', 'a', 'voice', 'memo', '.']\n",
      "['but', 'you', 'have', 'to', 'remove', 'it', 'to', 'hear', 'anything', 'back', '.']\n",
      "['that', \"'\", 's', 'the', 'kicker', '!', 'it', \"'\", 's', 'a', 'restriction', 'of', 'the', 'device', ',', 'not', 'the', 'mic', '.']\n",
      "['i', 'thought', 'i', 'could', 'use', 'the', 'mic', 'to', 'speak', 'and', 'my', 'bluetooth', 'headphones', 'to', 'listen', 'at', 'the', 'same', 'time', '.']\n",
      "['no', 'such', 'luck', '.']\n",
      "['you', 'have', 'to', 'get', 'the', 'ipod', 'headphones', 'with', 'built', 'in', 'mic/recorder', 'to', 'do', 'that', '.']\n",
      "['so', 'all', 'i', 'can', 'use', 'this', 'for', 'is', 'to', 'record', 'stuff', 'and', 'listen', 'later', '.']\n",
      "['but', 'it', 'was', 'cheap', ',', 'so', 'it', \"'\", 's', 'still', 'a', 'cool', 'addition', 'to', 'my', 'toys', '.']\n",
      "['oh', ',', 'and', 'i', 'also', 'got', 'the', 'ipod', 'headphones', 'with', 'mic', '.', '.', '.']\n",
      "['those', 'too', 'live', 'in', 'my', 'little', 'pouch', 'of', 'goodies', '.', '.', '.', 'lol', '<eos>']\n",
      "\n"
     ]
    }
   ],
   "source": [
    "datasetKeys = list(dataset.keys())\n",
    "k = handleItem(datasetKeys[29],printDebug=True)"
   ]
  },
  {
   "cell_type": "code",
   "execution_count": 9,
   "metadata": {},
   "outputs": [
    {
     "name": "stdout",
     "output_type": "stream",
     "text": [
      "63001\n"
     ]
    }
   ],
   "source": [
    "print(len(datasetKeys))"
   ]
  },
  {
   "cell_type": "code",
   "execution_count": 10,
   "metadata": {},
   "outputs": [],
   "source": [
    "def processItems(func, args, n_processes = 7):\n",
    "    p = Pool(n_processes)\n",
    "    res_list = []\n",
    "    with tqdm(total = len(args)) as pbar:\n",
    "        for i, res in enumerate(p.imap_unordered(func, args)):\n",
    "            pbar.update()\n",
    "            res_list.append(res)\n",
    "    pbar.close()\n",
    "    p.close()\n",
    "    p.join()\n",
    "    return res_list"
   ]
  },
  {
   "cell_type": "code",
   "execution_count": 35,
   "metadata": {},
   "outputs": [
    {
     "name": "stderr",
     "output_type": "stream",
     "text": [
      "100%|██████████| 1969/1969 [00:03<00:00, 550.35it/s]\n"
     ]
    }
   ],
   "source": [
    "reviews = processItems(handleItem,datasetKeys[::32])"
   ]
  },
  {
   "cell_type": "code",
   "execution_count": 36,
   "metadata": {},
   "outputs": [
    {
     "name": "stdout",
     "output_type": "stream",
     "text": [
      "1575 394\n",
      "265633 65597\n"
     ]
    }
   ],
   "source": [
    "datasetSize = len(reviews)\n",
    "trainPortion = 0.8\n",
    "valPortion = 0.2\n",
    "\n",
    "trainRatio = int(datasetSize * trainPortion)\n",
    "valRatio = int(datasetSize * valPortion)\n",
    "\n",
    "train = reviews[:trainRatio]\n",
    "validation = reviews[trainRatio:]\n",
    "\n",
    "print(len(train), len(validation))\n",
    "\n",
    "# now we need to flatten train and validation.\n",
    "trainents = []\n",
    "for review in train:\n",
    "    trainents += [entry for entry in review]\n",
    "valents = []\n",
    "for review in validation:\n",
    "    valents += [entry for entry in review]\n",
    "    \n",
    "train = trainents\n",
    "validation = valents\n",
    "\n",
    "print(len(train), len(validation))"
   ]
  },
  {
   "cell_type": "markdown",
   "metadata": {},
   "source": [
    "## Getting ID's of words"
   ]
  },
  {
   "cell_type": "markdown",
   "metadata": {},
   "source": [
    "To improve the throughput of the model, we should reduce the embedding size. Here we'll look at all the words and keep track ones that exist. We'll make a reduced word2id based on this set."
   ]
  },
  {
   "cell_type": "code",
   "execution_count": 37,
   "metadata": {},
   "outputs": [],
   "source": [
    "wordcounts = {}"
   ]
  },
  {
   "cell_type": "code",
   "execution_count": 38,
   "metadata": {},
   "outputs": [
    {
     "name": "stdout",
     "output_type": "stream",
     "text": [
      "Subsetting Reviews..\n",
      "We now have 265633 reviews.\n"
     ]
    }
   ],
   "source": [
    "# here we reduce the size of the dataset so we can debug our model.\n",
    "print(\"Subsetting Reviews..\")\n",
    "print(\"We now have\", len(train), \"reviews.\")"
   ]
  },
  {
   "cell_type": "code",
   "execution_count": 39,
   "metadata": {},
   "outputs": [
    {
     "name": "stderr",
     "output_type": "stream",
     "text": [
      "100%|██████████| 265633/265633 [00:05<00:00, 47370.37it/s]\n"
     ]
    }
   ],
   "source": [
    "# get word frequency for words in training data\n",
    "for row in tqdm(train):\n",
    "    for sequences in row:\n",
    "        for word in sequences:\n",
    "            word = str(word)\n",
    "            if word not in wordcounts:\n",
    "                wordcounts[word] = 0\n",
    "            wordcounts[word] += 1"
   ]
  },
  {
   "cell_type": "code",
   "execution_count": 40,
   "metadata": {},
   "outputs": [],
   "source": [
    "# get words that are not in the glove dataset\n",
    "knowns   = [word for word in wordcounts if word in glove]\n",
    "unknowns = [word for word in wordcounts if word not in glove]\n",
    "# sort words by their frequency\n",
    "wordOrder = list(sorted(knowns, key=lambda x: wordcounts[x], reverse=True))"
   ]
  },
  {
   "cell_type": "code",
   "execution_count": 41,
   "metadata": {},
   "outputs": [
    {
     "name": "stdout",
     "output_type": "stream",
     "text": [
      "34488 55902\n"
     ]
    }
   ],
   "source": [
    "print(len(knowns), len(unknowns))"
   ]
  },
  {
   "cell_type": "code",
   "execution_count": 42,
   "metadata": {},
   "outputs": [],
   "source": [
    "vocabularyLimit = 30000"
   ]
  },
  {
   "cell_type": "code",
   "execution_count": 43,
   "metadata": {},
   "outputs": [],
   "source": [
    "wordOrder = wordOrder[:vocabularyLimit]"
   ]
  },
  {
   "cell_type": "code",
   "execution_count": 44,
   "metadata": {},
   "outputs": [],
   "source": [
    "weights = [glove[word] for word in wordOrder]"
   ]
  },
  {
   "cell_type": "code",
   "execution_count": 45,
   "metadata": {},
   "outputs": [],
   "source": [
    "for word in unknowns:\n",
    "    if (\"rating\" in word) or (\"polarity\" in word):\n",
    "        try:\n",
    "            part = word.split(\"_\")\n",
    "            if part[1] == \"-0.0\":\n",
    "                part[1] = \"0.0\"\n",
    "            weight = glove[part[0]] + glove[part[1]]\n",
    "            wordOrder.append(word)\n",
    "            weights.append(weight)\n",
    "        except:\n",
    "            pass"
   ]
  },
  {
   "cell_type": "code",
   "execution_count": 46,
   "metadata": {},
   "outputs": [],
   "source": [
    "# create dictionaries for constant time referencing\n",
    "id2word = {idx: w for (idx, w) in enumerate(wordOrder)}\n",
    "word2id = {w: idx for (idx, w) in enumerate(wordOrder)}"
   ]
  },
  {
   "cell_type": "code",
   "execution_count": 47,
   "metadata": {},
   "outputs": [],
   "source": [
    "lim = len(word2id)\n",
    "# add <eos> (end of sequence)\n",
    "weights.append(glove['eos'])\n",
    "word2id['<eos>'] = lim\n",
    "id2word[lim] = '<eos>'\n",
    "lim += 1\n",
    "\n",
    "# add <sos> (start of sequence)\n",
    "weights.append(glove['sos'])\n",
    "word2id['<sos>'] = lim\n",
    "id2word[lim] = ['<sos>']\n",
    "lim += 1\n",
    "\n",
    "# add <sor> (start of review)\n",
    "sorWeight = np.random.normal(0,0.5,gloveDimension)\n",
    "weights.append(sorWeight)\n",
    "word2id['<sor>'] = lim\n",
    "id2word[lim] = '<sor>'\n",
    "lim += 1\n",
    "\n",
    "# add <unk> (unknown token)\n",
    "weights.append(glove['unk'])\n",
    "word2id['<unk>'] = lim\n",
    "id2word[lim] = '<unk>'\n",
    "\n",
    "# add <pad> \n",
    "id2word[len(word2id)] = \"<pad>\"\n",
    "word2id[\"<pad>\"] = len(word2id)\n",
    "weights.append(np.random.normal(0,0,gloveDimension))"
   ]
  },
  {
   "cell_type": "code",
   "execution_count": 48,
   "metadata": {},
   "outputs": [
    {
     "data": {
      "text/plain": [
       "array([0., 0., 0., 0., 0., 0., 0., 0., 0., 0., 0., 0., 0., 0., 0., 0., 0.,\n",
       "       0., 0., 0., 0., 0., 0., 0., 0., 0., 0., 0., 0., 0., 0., 0., 0., 0.,\n",
       "       0., 0., 0., 0., 0., 0., 0., 0., 0., 0., 0., 0., 0., 0., 0., 0.])"
      ]
     },
     "execution_count": 48,
     "metadata": {},
     "output_type": "execute_result"
    }
   ],
   "source": [
    "np.random.normal(0,0,gloveDimension)"
   ]
  },
  {
   "cell_type": "code",
   "execution_count": 49,
   "metadata": {},
   "outputs": [],
   "source": [
    "def wordToID(word,corp=word2id):\n",
    "    if word in corp:\n",
    "        return corp[word]\n",
    "    return corp['<unk>']\n",
    "\n",
    "def IDToWord(id,corp=id2word, ref=word2id):\n",
    "    if word in corp:\n",
    "        return corp[word]\n",
    "    return corp[ref['<unk>']]"
   ]
  },
  {
   "cell_type": "code",
   "execution_count": 50,
   "metadata": {},
   "outputs": [
    {
     "name": "stderr",
     "output_type": "stream",
     "text": [
      "100%|██████████| 265633/265633 [00:02<00:00, 96578.07it/s]\n",
      "100%|██████████| 65597/65597 [00:00<00:00, 88481.16it/s]\n"
     ]
    }
   ],
   "source": [
    "# convert words to their id's in the review.\n",
    "def entriesToWordIDs(group):\n",
    "    return [[[wordToID(word) for word in seq] for seq in row] for row in tqdm(group)]\n",
    "    \n",
    "train = entriesToWordIDs(train)\n",
    "validation = entriesToWordIDs(validation)"
   ]
  },
  {
   "cell_type": "code",
   "execution_count": 51,
   "metadata": {},
   "outputs": [
    {
     "name": "stderr",
     "output_type": "stream",
     "text": [
      "100%|██████████| 265633/265633 [00:00<00:00, 1236225.27it/s]"
     ]
    },
    {
     "name": "stdout",
     "output_type": "stream",
     "text": [
      "The longest sequence in our dataset is 1709 tokens long.\n"
     ]
    },
    {
     "name": "stderr",
     "output_type": "stream",
     "text": [
      "\n"
     ]
    }
   ],
   "source": [
    "sizes = {}\n",
    "for row in tqdm(train):\n",
    "    for seq in row:\n",
    "        length = len(seq)\n",
    "        if length not in sizes:\n",
    "            sizes[length] = 0\n",
    "        sizes[length] += 1\n",
    "\n",
    "seqlengths = list(sorted(sizes.keys(), key=lambda x: sizes[x], reverse=True))\n",
    "print(\"The longest sequence in our dataset is\",max(seqlengths),\"tokens long.\")"
   ]
  },
  {
   "cell_type": "code",
   "execution_count": 52,
   "metadata": {},
   "outputs": [],
   "source": [
    "for i in range(1709):\n",
    "    if i not in sizes:\n",
    "        sizes[i] = 0"
   ]
  },
  {
   "cell_type": "code",
   "execution_count": 53,
   "metadata": {},
   "outputs": [
    {
     "data": {
      "image/png": "[encoded data removed]",
      "text/plain": [
       "<Figure size 432x288 with 1 Axes>"
      ]
     },
     "metadata": {
      "needs_background": "light"
     },
     "output_type": "display_data"
    }
   ],
   "source": [
    "ents = [x for x in range(0,70)]\n",
    "bins = [sizes[x] for x in ents]\n",
    "plt.bar(ents,bins)\n",
    "plt.show()"
   ]
  },
  {
   "cell_type": "code",
   "execution_count": 54,
   "metadata": {},
   "outputs": [
    {
     "name": "stdout",
     "output_type": "stream",
     "text": [
      "Cutoff sequence length: 51\n"
     ]
    }
   ],
   "source": [
    "cutoff = seqlengths[37]\n",
    "print(\"Cutoff sequence length:\", cutoff)"
   ]
  },
  {
   "cell_type": "code",
   "execution_count": 55,
   "metadata": {},
   "outputs": [
    {
     "name": "stderr",
     "output_type": "stream",
     "text": [
      "100%|██████████| 265633/265633 [00:01<00:00, 144171.06it/s]\n",
      "100%|██████████| 65597/65597 [00:00<00:00, 723037.28it/s]\n"
     ]
    }
   ],
   "source": [
    "def trimSeq(group):\n",
    "    return [[seq[:cutoff] for seq in row] for row in tqdm(group)]\n",
    "\n",
    "train = trimSeq(train)\n",
    "validation = trimSeq(validation)"
   ]
  },
  {
   "cell_type": "code",
   "execution_count": 56,
   "metadata": {},
   "outputs": [],
   "source": [
    "# create container ready for use in dataset\n",
    "# we do not add padding here as we want to reduce storage size!\n",
    "container = {\n",
    "    'id2word' : id2word,\n",
    "    'word2id' : word2id,\n",
    "    'train' : train,\n",
    "    'validation': validation,\n",
    "    'weights' : np.matrix(weights),\n",
    "    'cutoff' : cutoff\n",
    "}"
   ]
  },
  {
   "cell_type": "code",
   "execution_count": 57,
   "metadata": {},
   "outputs": [
    {
     "name": "stdout",
     "output_type": "stream",
     "text": [
      "Saved! 64.4 MB\n"
     ]
    }
   ],
   "source": [
    "def convert_bytes(num):\n",
    "    \"\"\"\n",
    "    this function will convert bytes to MB.... GB... etc\n",
    "    \"\"\"\n",
    "    for x in ['bytes', 'KB', 'MB', 'GB', 'TB']:\n",
    "        if num < 1024.0:\n",
    "            return \"%3.1f %s\" % (num, x)\n",
    "        num /= 1024.0\n",
    "        \n",
    "        \n",
    "datasetFile = '../Datasets/Reviews/dataset_ready.pkl'\n",
    "# save the dataset to a pickle file.\n",
    "output = open(datasetFile, 'wb')\n",
    "pickle.dump(container, output)\n",
    "output.close()\n",
    "print(\"Saved!\", convert_bytes(os.stat(datasetFile).st_size))"
   ]
  },
  {
   "cell_type": "code",
   "execution_count": 58,
   "metadata": {},
   "outputs": [
    {
     "name": "stderr",
     "output_type": "stream",
     "text": [
      "100%|██████████| 8302/8302 [00:00<00:00, 16642.91it/s]\n",
      "100%|██████████| 8302/8302 [00:00<00:00, 15549.79it/s]\n",
      "100%|██████████| 2050/2050 [00:00<00:00, 15599.45it/s]\n",
      "100%|██████████| 2050/2050 [00:00<00:00, 15843.72it/s]\n"
     ]
    }
   ],
   "source": [
    "# get sequence lengths for train and validation data\n",
    "trainx = [x[0] for x in train]\n",
    "trainy = [x[1] for x in train]\n",
    "valx   = [x[0] for x in validation]\n",
    "valy   = [x[1] for x in validation]\n",
    "\n",
    "\"\"\"\n",
    "Dataset batching mechanism\n",
    "\"\"\"\n",
    "\n",
    "def padSeq(row, maxlength, padID):\n",
    "    currentLength = len(row)\n",
    "    difference = maxlength - currentLength\n",
    "    return row + [padID for _ in range(difference)]\n",
    "\n",
    "def batchData(dataset, batchsize=32, padID=word2id['<pad>']):\n",
    "    \"\"\"\n",
    "    Splits the dataset into batches.\n",
    "    Each batch needs to be sorted by \n",
    "    the length of their sequence in order\n",
    "    for `pack_padded_sequence` to be used.\n",
    "    \"\"\"\n",
    "    datasize = len(dataset)\n",
    "    batches = []\n",
    "    # split data into batches.\n",
    "    for i in range(0, datasize, batchsize):\n",
    "        batches.append(dataset[i:i+batchsize])\n",
    "    # within each batch, sort the entries.\n",
    "    for i in tqdm(range(len(batches))):\n",
    "        batch = batches[i]\n",
    "        # get lengths of each review in the batch\n",
    "        # based on the postion of the EOS tag.\n",
    "        lengths = [len(seq) for seq in batch]\n",
    "        indexes = [x for x in range(len(lengths))]\n",
    "        sortedindexes = sorted(list(zip(lengths,indexes)), reverse=True)\n",
    "        \n",
    "        # since sentences are split by period, the period itself acts\n",
    "        # the token to identify that the sentence has ended.\n",
    "        # i.e. we don't need another token identifying the end of the subsequence.\n",
    "        \n",
    "        # get the reviews based on the sorted batch lengths\n",
    "        reviews = [padSeq(batch[i[1]], cutoff, padID) for i in sortedindexes]\n",
    "        # re-allocate values.\n",
    "        batches[i] = (reviews, [i[0] for i in sortedindexes])\n",
    "    return batches\n",
    "\n",
    "trainx = batchData(trainx)\n",
    "trainy = batchData(trainy)\n",
    "valx = batchData(valx)\n",
    "valy = batchData(valy)\n",
    "\n",
    "train = (trainx, trainy)\n",
    "val = (valx, valy)"
   ]
  },
  {
   "cell_type": "code",
   "execution_count": null,
   "metadata": {},
   "outputs": [],
   "source": []
  }
 ],
 "metadata": {
  "kernelspec": {
   "display_name": "Python 3",
   "language": "python",
   "name": "python3"
  },
  "language_info": {
   "codemirror_mode": {
    "name": "ipython",
    "version": 3
   },
   "file_extension": ".py",
   "mimetype": "text/x-python",
   "name": "python",
   "nbconvert_exporter": "python",
   "pygments_lexer": "ipython3",
   "version": "3.6.7"
  }
 },
 "nbformat": 4,
 "nbformat_minor": 2
}
