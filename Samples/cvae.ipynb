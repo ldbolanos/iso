{
 "cells": [
  {
   "cell_type": "code",
   "execution_count": 1,
   "metadata": {
    "ExecuteTime": {
     "end_time": "2019-02-02T18:16:39.072798Z",
     "start_time": "2019-02-02T18:16:38.474481Z"
    }
   },
   "outputs": [],
   "source": [
    "from __future__ import print_function\n",
    "import matplotlib.pyplot as plt\n",
    "import matplotlib.gridspec as gridspec\n",
    "import torch\n",
    "import torch.utils.data\n",
    "from torch import nn, optim\n",
    "from torch.autograd import Variable\n",
    "from torch.nn import functional as F\n",
    "from torchvision import datasets, transforms\n",
    "from torchvision.utils import save_image\n",
    "%matplotlib inline  "
   ]
  },
  {
   "cell_type": "code",
   "execution_count": 2,
   "metadata": {
    "ExecuteTime": {
     "end_time": "2019-02-02T18:16:42.584687Z",
     "start_time": "2019-02-02T18:16:39.074690Z"
    }
   },
   "outputs": [
    {
     "name": "stdout",
     "output_type": "stream",
     "text": [
      "Downloading http://yann.lecun.com/exdb/mnist/train-images-idx3-ubyte.gz\n",
      "Downloading http://yann.lecun.com/exdb/mnist/train-labels-idx1-ubyte.gz\n",
      "Downloading http://yann.lecun.com/exdb/mnist/t10k-images-idx3-ubyte.gz\n",
      "Downloading http://yann.lecun.com/exdb/mnist/t10k-labels-idx1-ubyte.gz\n",
      "Processing...\n",
      "Done!\n"
     ]
    }
   ],
   "source": [
    "use_cuda = True\n",
    "batch_size = 32\n",
    "latent_size = 20 # z dim\n",
    "\n",
    "kwargs = {'num_workers': 1, 'pin_memory': True} if use_cuda else {}\n",
    "train_loader = torch.utils.data.DataLoader(\n",
    "        datasets.MNIST('../data', train=True, download=True,\n",
    "                       transform=transforms.ToTensor()),\n",
    "        batch_size=batch_size, shuffle=True, **kwargs)\n",
    "test_loader = torch.utils.data.DataLoader(\n",
    "        datasets.MNIST('../data', train=False,\n",
    "                       transform=transforms.ToTensor()),\n",
    "        batch_size=batch_size, shuffle=True, **kwargs)\n"
   ]
  },
  {
   "cell_type": "code",
   "execution_count": 3,
   "metadata": {
    "ExecuteTime": {
     "end_time": "2019-02-02T18:16:42.590719Z",
     "start_time": "2019-02-02T18:16:42.586432Z"
    }
   },
   "outputs": [],
   "source": [
    "def to_var(x):\n",
    "    x = Variable(x)\n",
    "    if use_cuda:\n",
    "        x = x.cuda()\n",
    "    return x\n",
    "\n",
    "def one_hot(labels, class_size):\n",
    "    targets = torch.zeros(labels.size(0), class_size)\n",
    "    for i, label in enumerate(labels):\n",
    "        targets[i, label] = 1\n",
    "    return to_var(targets)\n",
    "\n",
    "# Reconstruction + KL divergence losses summed over all elements and batch\n",
    "def loss_function(recon_x, x, mu, logvar):\n",
    "    BCE = F.binary_cross_entropy(recon_x, x.view(-1, 28*28))\n",
    "    # see Appendix B from VAE paper:\n",
    "    # Kingma and Welling. Auto-Encoding Variational Bayes. ICLR, 2014\n",
    "    # https://arxiv.org/abs/1312.6114\n",
    "    # 0.5 * sum(1 + log(sigma^2) - mu^2 - sigma^2)\n",
    "    KLD = -0.5 * torch.sum(1 + logvar - mu.pow(2) - logvar.exp())\n",
    "    return BCE + KLD"
   ]
  },
  {
   "cell_type": "code",
   "execution_count": 4,
   "metadata": {
    "ExecuteTime": {
     "end_time": "2019-02-02T18:16:42.604037Z",
     "start_time": "2019-02-02T18:16:42.592811Z"
    }
   },
   "outputs": [],
   "source": [
    "class CVAE(nn.Module):\n",
    "    def __init__(self, feature_size, latent_size, class_size):\n",
    "        super(CVAE, self).__init__()\n",
    "        self.feature_size = feature_size\n",
    "        self.class_size = class_size\n",
    "\n",
    "        # encode\n",
    "        self.fc1  = nn.Linear(feature_size + class_size, 400)\n",
    "        self.fc21 = nn.Linear(400, latent_size)\n",
    "        self.fc22 = nn.Linear(400, latent_size)\n",
    "\n",
    "        # decode\n",
    "        self.fc3 = nn.Linear(latent_size + class_size, 400)\n",
    "        self.fc4 = nn.Linear(400, feature_size)\n",
    "\n",
    "        self.relu = nn.ReLU()\n",
    "        self.sigmoid = nn.Sigmoid()\n",
    "\n",
    "    def encode(self, x, c): # Q(z|x, c)\n",
    "        '''\n",
    "        x: (bs, feature_size)\n",
    "        c: (bs, class_size)\n",
    "        '''\n",
    "        inputs = torch.cat([x, c], 1) # (bs, feature_size+class_size)\n",
    "        h1 = self.relu(self.fc1(inputs))\n",
    "        z_mu = self.fc21(h1)\n",
    "        z_var = self.fc22(h1)\n",
    "        return z_mu, z_var\n",
    "\n",
    "    def reparametrize(self, mu, logvar):\n",
    "        if self.training:\n",
    "            std = logvar.mul(0.5).exp_()\n",
    "            eps = Variable(std.data.new(std.size()).normal_())\n",
    "            return eps.mul(std) + mu\n",
    "        else:\n",
    "            return mu\n",
    "\n",
    "    def decode(self, z, c): # P(x|z, c)\n",
    "        '''\n",
    "        z: (bs, latent_size)\n",
    "        c: (bs, class_size)\n",
    "        '''\n",
    "        inputs = torch.cat([z, c], 1) # (bs, latent_size+class_size)\n",
    "        h3 = self.relu(self.fc3(inputs))\n",
    "        return self.sigmoid(self.fc4(h3))\n",
    "\n",
    "    def forward(self, x, c):\n",
    "        mu, logvar = self.encode(x.view(-1, 28*28), c)\n",
    "        z = self.reparametrize(mu, logvar)\n",
    "        return self.decode(z, c), mu, logvar\n"
   ]
  },
  {
   "cell_type": "code",
   "execution_count": 5,
   "metadata": {
    "ExecuteTime": {
     "end_time": "2019-02-02T18:16:42.620496Z",
     "start_time": "2019-02-02T18:16:42.606124Z"
    }
   },
   "outputs": [],
   "source": [
    "def train(epoch):\n",
    "    model.train()\n",
    "    train_loss = 0\n",
    "    for batch_idx, (data, labels) in enumerate(train_loader):\n",
    "        data = to_var(data)\n",
    "        labels = one_hot(labels, 10)\n",
    "        recon_batch, mu, logvar = model(data, labels)\n",
    "        optimizer.zero_grad()\n",
    "        loss = loss_function(recon_batch, data, mu, logvar)\n",
    "        loss.backward()\n",
    "        train_loss += loss.data\n",
    "        optimizer.step()\n",
    "        if batch_idx % 500 == 0:\n",
    "            print('Train Epoch: {} [{}/{} ({:.0f}%)]\\tLoss: {:.6f}'.format(\n",
    "                epoch, batch_idx * len(data), len(train_loader.dataset),\n",
    "                100. * batch_idx / len(train_loader),\n",
    "                loss.data / len(data)))\n",
    "\n",
    "def test(epoch):\n",
    "    test_loss = 0\n",
    "    for i, (data, labels) in enumerate(test_loader):\n",
    "        data = to_var(data)\n",
    "        labels = one_hot(labels, 10)\n",
    "        recon_batch, mu, logvar = model(data, labels)\n",
    "        test_loss += loss_function(recon_batch, data, mu, logvar).data\n",
    "        if i == 0:\n",
    "            n = min(data.size(0), 8)\n",
    "            comparison = torch.cat([data[:n],\n",
    "                                  recon_batch.view(batch_size, 1, 28, 28)[:n]])\n",
    "            save_image(comparison.data.cpu(),\n",
    "                     'results/reconstruction_' + str(epoch) + '.png', nrow=n)\n",
    "\n",
    "    test_loss /= len(test_loader.dataset)\n",
    "    print('====> Test set loss: {:.4f}'.format(test_loss))"
   ]
  },
  {
   "cell_type": "code",
   "execution_count": 6,
   "metadata": {
    "ExecuteTime": {
     "end_time": "2019-02-02T18:16:45.451730Z",
     "start_time": "2019-02-02T18:16:42.622809Z"
    }
   },
   "outputs": [],
   "source": [
    "model = CVAE(28*28, latent_size, 10)\n",
    "if use_cuda:\n",
    "    model.cuda()\n",
    "optimizer = optim.Adam(model.parameters(), lr=1e-3)"
   ]
  },
  {
   "cell_type": "code",
   "execution_count": 7,
   "metadata": {
    "ExecuteTime": {
     "end_time": "2019-02-02T18:18:14.946020Z",
     "start_time": "2019-02-02T18:16:45.453861Z"
    }
   },
   "outputs": [
    {
     "name": "stdout",
     "output_type": "stream",
     "text": [
      "Train Epoch: 1 [0/60000 (0%)]\tLoss: 0.132945\n",
      "Train Epoch: 1 [16000/60000 (27%)]\tLoss: 0.007094\n",
      "Train Epoch: 1 [32000/60000 (53%)]\tLoss: 0.007430\n",
      "Train Epoch: 1 [48000/60000 (80%)]\tLoss: 0.006462\n",
      "Train Epoch: 2 [0/60000 (0%)]\tLoss: 0.006661\n",
      "Train Epoch: 2 [16000/60000 (27%)]\tLoss: 0.007311\n",
      "Train Epoch: 2 [32000/60000 (53%)]\tLoss: 0.006702\n",
      "Train Epoch: 2 [48000/60000 (80%)]\tLoss: 0.006437\n",
      "Train Epoch: 3 [0/60000 (0%)]\tLoss: 0.006972\n",
      "Train Epoch: 3 [16000/60000 (27%)]\tLoss: 0.006774\n",
      "Train Epoch: 3 [32000/60000 (53%)]\tLoss: 0.006689\n",
      "Train Epoch: 3 [48000/60000 (80%)]\tLoss: 0.007190\n",
      "Train Epoch: 4 [0/60000 (0%)]\tLoss: 0.006463\n",
      "Train Epoch: 4 [16000/60000 (27%)]\tLoss: 0.006822\n",
      "Train Epoch: 4 [32000/60000 (53%)]\tLoss: 0.006489\n",
      "Train Epoch: 4 [48000/60000 (80%)]\tLoss: 0.007055\n",
      "Train Epoch: 5 [0/60000 (0%)]\tLoss: 0.007140\n",
      "Train Epoch: 5 [16000/60000 (27%)]\tLoss: 0.006702\n",
      "Train Epoch: 5 [32000/60000 (53%)]\tLoss: 0.007125\n",
      "Train Epoch: 5 [48000/60000 (80%)]\tLoss: 0.007151\n",
      "Train Epoch: 6 [0/60000 (0%)]\tLoss: 0.006547\n",
      "Train Epoch: 6 [16000/60000 (27%)]\tLoss: 0.007261\n",
      "Train Epoch: 6 [32000/60000 (53%)]\tLoss: 0.007413\n",
      "Train Epoch: 6 [48000/60000 (80%)]\tLoss: 0.006931\n",
      "Train Epoch: 7 [0/60000 (0%)]\tLoss: 0.006678\n",
      "Train Epoch: 7 [16000/60000 (27%)]\tLoss: 0.006954\n",
      "Train Epoch: 7 [32000/60000 (53%)]\tLoss: 0.006946\n",
      "Train Epoch: 7 [48000/60000 (80%)]\tLoss: 0.006471\n",
      "Train Epoch: 8 [0/60000 (0%)]\tLoss: 0.007076\n",
      "Train Epoch: 8 [16000/60000 (27%)]\tLoss: 0.007126\n",
      "Train Epoch: 8 [32000/60000 (53%)]\tLoss: 0.006926\n",
      "Train Epoch: 8 [48000/60000 (80%)]\tLoss: 0.007096\n",
      "Train Epoch: 9 [0/60000 (0%)]\tLoss: 0.006424\n",
      "Train Epoch: 9 [16000/60000 (27%)]\tLoss: 0.006494\n",
      "Train Epoch: 9 [32000/60000 (53%)]\tLoss: 0.007516\n",
      "Train Epoch: 9 [48000/60000 (80%)]\tLoss: 0.006715\n",
      "Train Epoch: 10 [0/60000 (0%)]\tLoss: 0.006457\n",
      "Train Epoch: 10 [16000/60000 (27%)]\tLoss: 0.006860\n",
      "Train Epoch: 10 [32000/60000 (53%)]\tLoss: 0.007355\n",
      "Train Epoch: 10 [48000/60000 (80%)]\tLoss: 0.006684\n"
     ]
    }
   ],
   "source": [
    "for epoch in range(1, 11):\n",
    "    train(epoch)\n",
    "#     test(epoch)"
   ]
  },
  {
   "cell_type": "code",
   "execution_count": 8,
   "metadata": {
    "ExecuteTime": {
     "end_time": "2019-02-02T18:18:15.340595Z",
     "start_time": "2019-02-02T18:18:14.948519Z"
    }
   },
   "outputs": [
    {
     "data": {
      "image/png": "[encoded data removed]",
      "text/plain": [
       "<Figure size 720x720 with 10 Axes>"
      ]
     },
     "metadata": {},
     "output_type": "display_data"
    }
   ],
   "source": [
    "# Generate images with condition labels\n",
    "c = torch.eye(10, 10) # [one hot labels for 0-9]\n",
    "c = to_var(c)\n",
    "z = to_var(torch.randn(10, latent_size))\n",
    "samples = model.decode(z, c).data.cpu().numpy()\n",
    "\n",
    "fig = plt.figure(figsize=(10, 10))\n",
    "gs = gridspec.GridSpec(10, 10)\n",
    "gs.update(wspace=0.05, hspace=0.05)\n",
    "for i, sample in enumerate(samples):\n",
    "        ax = plt.subplot(gs[i])\n",
    "        plt.axis('off')\n",
    "        ax.set_xticklabels([])\n",
    "        ax.set_yticklabels([])\n",
    "        ax.set_aspect('equal')\n",
    "        plt.imshow(sample.reshape(28, 28), cmap='Greys_r')"
   ]
  },
  {
   "cell_type": "code",
   "execution_count": null,
   "metadata": {},
   "outputs": [],
   "source": []
  }
 ],
 "metadata": {
  "kernelspec": {
   "display_name": "Python 3",
   "language": "python",
   "name": "python3"
  },
  "language_info": {
   "codemirror_mode": {
    "name": "ipython",
    "version": 3
   },
   "file_extension": ".py",
   "mimetype": "text/x-python",
   "name": "python",
   "nbconvert_exporter": "python",
   "pygments_lexer": "ipython3",
   "version": "3.5.2"
  }
 },
 "nbformat": 4,
 "nbformat_minor": 2
}
