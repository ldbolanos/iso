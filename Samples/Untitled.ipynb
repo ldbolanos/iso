{
 "cells": [
  {
   "cell_type": "code",
   "execution_count": 6,
   "metadata": {
    "ExecuteTime": {
     "end_time": "2019-01-28T12:52:45.943527Z",
     "start_time": "2019-01-28T12:52:45.940797Z"
    }
   },
   "outputs": [],
   "source": [
    "import torch, torch.nn as nn\n",
    "from torch.autograd import Variable"
   ]
  },
  {
   "cell_type": "code",
   "execution_count": 18,
   "metadata": {
    "ExecuteTime": {
     "end_time": "2019-01-28T12:53:46.954488Z",
     "start_time": "2019-01-28T12:53:46.949636Z"
    }
   },
   "outputs": [],
   "source": [
    "text = ['BOS', 'How', 'are', 'you', 'EOS']\n",
    "seq_len = len(text)\n",
    "batch_size = 1\n",
    "embedding_size = 1\n",
    "hidden_size = 1\n",
    "output_size = 1"
   ]
  },
  {
   "cell_type": "code",
   "execution_count": 27,
   "metadata": {
    "ExecuteTime": {
     "end_time": "2019-01-28T12:55:37.482541Z",
     "start_time": "2019-01-28T12:55:37.476005Z"
    }
   },
   "outputs": [],
   "source": [
    "random_input = Variable(\n",
    "    torch.FloatTensor(seq_len, batch_size, embedding_size).normal_(), requires_grad=False)\n",
    "\n",
    "bi_rnn = torch.nn.RNN(\n",
    "    input_size=embedding_size, hidden_size=hidden_size, num_layers=1, batch_first=False, bidirectional=True)\n",
    "\n",
    "bi_output, bi_hidden = bi_rnn(random_input)\n",
    "\n",
    "# stagger\n",
    "forward_output, backward_output = bi_output[:-2, :, :hidden_size], bi_output[2:, :, hidden_size:]\n",
    "staggered_output = torch.cat((forward_output, backward_output), dim=-1)\n",
    "\n",
    "linear = nn.Linear(hidden_size * 2, output_size)\n",
    "\n",
    "# only predict on words\n",
    "labels = random_input[1:-1]\n",
    "\n",
    "# for language models, use cross-entropy :)\n",
    "loss = nn.MSELoss()\n",
    "output = loss(linear(staggered_output), labels)"
   ]
  },
  {
   "cell_type": "code",
   "execution_count": 29,
   "metadata": {
    "ExecuteTime": {
     "end_time": "2019-01-28T12:55:44.129077Z",
     "start_time": "2019-01-28T12:55:44.124846Z"
    }
   },
   "outputs": [
    {
     "data": {
      "text/plain": [
       "tensor([[[-0.8803]],\n",
       "\n",
       "        [[ 0.2783]],\n",
       "\n",
       "        [[-0.5334]],\n",
       "\n",
       "        [[ 0.1402]],\n",
       "\n",
       "        [[-1.8265]]])"
      ]
     },
     "execution_count": 29,
     "metadata": {},
     "output_type": "execute_result"
    }
   ],
   "source": [
    "random_input"
   ]
  },
  {
   "cell_type": "code",
   "execution_count": 30,
   "metadata": {
    "ExecuteTime": {
     "end_time": "2019-01-28T12:55:48.435283Z",
     "start_time": "2019-01-28T12:55:48.430536Z"
    }
   },
   "outputs": [
    {
     "data": {
      "text/plain": [
       "tensor([[[-0.5148,  0.9234]],\n",
       "\n",
       "        [[-0.8300,  0.9204]],\n",
       "\n",
       "        [[-0.8289,  0.9212]],\n",
       "\n",
       "        [[-0.8748,  0.9065]],\n",
       "\n",
       "        [[-0.7102,  0.7827]]], grad_fn=<CatBackward>)"
      ]
     },
     "execution_count": 30,
     "metadata": {},
     "output_type": "execute_result"
    }
   ],
   "source": [
    "bi_output"
   ]
  },
  {
   "cell_type": "code",
   "execution_count": 31,
   "metadata": {
    "ExecuteTime": {
     "end_time": "2019-01-28T12:55:54.637340Z",
     "start_time": "2019-01-28T12:55:54.632876Z"
    }
   },
   "outputs": [
    {
     "data": {
      "text/plain": [
       "tensor([[[-0.7102]],\n",
       "\n",
       "        [[ 0.9234]]], grad_fn=<StackBackward>)"
      ]
     },
     "execution_count": 31,
     "metadata": {},
     "output_type": "execute_result"
    }
   ],
   "source": [
    "bi_hidden"
   ]
  },
  {
   "cell_type": "code",
   "execution_count": null,
   "metadata": {},
   "outputs": [],
   "source": []
  },
  {
   "cell_type": "code",
   "execution_count": 23,
   "metadata": {
    "ExecuteTime": {
     "end_time": "2019-01-28T12:54:23.543738Z",
     "start_time": "2019-01-28T12:54:23.537891Z"
    }
   },
   "outputs": [
    {
     "name": "stdout",
     "output_type": "stream",
     "text": [
      "tensor([[[ 0.1312]],\n",
      "\n",
      "        [[-0.1392]],\n",
      "\n",
      "        [[-0.1574]]], grad_fn=<SliceBackward>)\n",
      "tensor([[[ 0.4242]],\n",
      "\n",
      "        [[ 0.3554]],\n",
      "\n",
      "        [[-0.0763]]], grad_fn=<SliceBackward>)\n"
     ]
    }
   ],
   "source": [
    "print(forward_output)\n",
    "print(backward_output)"
   ]
  },
  {
   "cell_type": "code",
   "execution_count": 24,
   "metadata": {
    "ExecuteTime": {
     "end_time": "2019-01-28T12:54:24.905113Z",
     "start_time": "2019-01-28T12:54:24.901077Z"
    }
   },
   "outputs": [
    {
     "data": {
      "text/plain": [
       "tensor([[[ 0.1312,  0.4242]],\n",
       "\n",
       "        [[-0.1392,  0.3554]],\n",
       "\n",
       "        [[-0.1574, -0.0763]]], grad_fn=<CatBackward>)"
      ]
     },
     "execution_count": 24,
     "metadata": {},
     "output_type": "execute_result"
    }
   ],
   "source": [
    "staggered_output"
   ]
  },
  {
   "cell_type": "code",
   "execution_count": 25,
   "metadata": {
    "ExecuteTime": {
     "end_time": "2019-01-28T12:54:33.798690Z",
     "start_time": "2019-01-28T12:54:33.794181Z"
    }
   },
   "outputs": [
    {
     "data": {
      "text/plain": [
       "tensor([[[-1.7170]],\n",
       "\n",
       "        [[-1.3407]],\n",
       "\n",
       "        [[-2.5114]]])"
      ]
     },
     "execution_count": 25,
     "metadata": {},
     "output_type": "execute_result"
    }
   ],
   "source": [
    "labels"
   ]
  },
  {
   "cell_type": "code",
   "execution_count": 26,
   "metadata": {
    "ExecuteTime": {
     "end_time": "2019-01-28T12:54:33.924681Z",
     "start_time": "2019-01-28T12:54:33.920270Z"
    }
   },
   "outputs": [
    {
     "data": {
      "text/plain": [
       "tensor(3.0677, grad_fn=<MseLossBackward>)"
      ]
     },
     "execution_count": 26,
     "metadata": {},
     "output_type": "execute_result"
    }
   ],
   "source": [
    "output"
   ]
  },
  {
   "cell_type": "code",
   "execution_count": null,
   "metadata": {},
   "outputs": [],
   "source": []
  }
 ],
 "metadata": {
  "kernelspec": {
   "display_name": "Python 3",
   "language": "python",
   "name": "python3"
  },
  "language_info": {
   "codemirror_mode": {
    "name": "ipython",
    "version": 3
   },
   "file_extension": ".py",
   "mimetype": "text/x-python",
   "name": "python",
   "nbconvert_exporter": "python",
   "pygments_lexer": "ipython3",
   "version": "3.5.2"
  }
 },
 "nbformat": 4,
 "nbformat_minor": 2
}
