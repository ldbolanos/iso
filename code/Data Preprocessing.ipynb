{
 "cells": [
  {
   "cell_type": "code",
   "execution_count": 1,
   "metadata": {},
   "outputs": [],
   "source": [
    "import os\n",
    "import json\n",
    "import time\n",
    "import gzip\n",
    "import bcolz\n",
    "import numpy as np\n",
    "import re\n",
    "import copy\n",
    "from multiprocessing import Pool\n",
    "from tqdm import tqdm\n",
    "import matplotlib\n",
    "import matplotlib.pyplot as plt\n",
    "import pickle\n",
    "import random\n",
    "import json\n",
    "import inspect\n",
    "from spacy.lang.en import English"
   ]
  },
  {
   "cell_type": "code",
   "execution_count": 2,
   "metadata": {},
   "outputs": [],
   "source": [
    "params = {\n",
    "    \"seed\" : 1337,\n",
    "    \"pickleFile\" :  '../Datasets/Reviews/dataset.pkl',\n",
    "    \"gloveDimension\" : 50,\n",
    "    \"glovePath\" : \"/media/data/Datasets/glove\",\n",
    "    \"datasetReduction\" : 16,\n",
    "    \"trainPortion\" : 0.85,\n",
    "    \"valPortion\" : 0.1,\n",
    "    \"vocabularyLimit\" : 10000,\n",
    "    \"cutoff\" : 60,\n",
    "    \"conditioning\" : True,\n",
    "    \"datasetFile\" : '../Datasets/Reviews/dataset_ready.pkl',\n",
    "    \"example_item_id\" : 19, \n",
    "    \"saveDataset\" : True,\n",
    "    \"paramsJSONLocation\" : '../Datasets/Reviews/dataset_parameters.json'\n",
    "}\n",
    "\n",
    "# params = {\n",
    "#     \"seed\" : 1337,\n",
    "#     \"pickleFile\" :  '../Datasets/Reviews/dataset.pkl',\n",
    "#     \"gloveDimension\" : 50,\n",
    "#     \"glovePath\" : \"/media/data/Datasets/glove\",\n",
    "#     \"datasetReduction\" : 16,\n",
    "#     \"trainPortion\" : 0.90,\n",
    "#     \"vocabularyLimit\" : 30000,\n",
    "#     \"cutoff\" : 60,\n",
    "#     \"conditioning\" : False,\n",
    "#     \"datasetFile\" : '../Datasets/Reviews/dataset_ready_no_condition.pkl',\n",
    "#     \"example_item_id\" : 19, \n",
    "#     \"saveDataset\" : True,\n",
    "#     \"paramsJSONLocation\" : 'dataset_parameters_no_condition.json'\n",
    "# }"
   ]
  },
  {
   "cell_type": "code",
   "execution_count": 3,
   "metadata": {},
   "outputs": [],
   "source": [
    "random.seed(params['seed'])\n",
    "np.random.seed(params['seed'])\n",
    "\n",
    "nlp = English()\n",
    "sentencizer = nlp.create_pipe(\"sentencizer\")\n",
    "nlp.add_pipe(sentencizer)\n",
    "tokenizer = nlp.create_pipe(\"tokenizer\")"
   ]
  },
  {
   "cell_type": "markdown",
   "metadata": {},
   "source": [
    "## Loading the Dataset"
   ]
  },
  {
   "cell_type": "code",
   "execution_count": 4,
   "metadata": {},
   "outputs": [
    {
     "name": "stdout",
     "output_type": "stream",
     "text": [
      "Loaded the dataset in 6.91 seconds.\n"
     ]
    }
   ],
   "source": [
    "start = time.clock()\n",
    "dataset = pickle.load( open( params['pickleFile'], \"rb\" ))\n",
    "duration = time.clock() - start\n",
    "print(\"Loaded the dataset in\", round(duration,2), \"seconds.\")"
   ]
  },
  {
   "cell_type": "code",
   "execution_count": 5,
   "metadata": {},
   "outputs": [
    {
     "name": "stdout",
     "output_type": "stream",
     "text": [
      "There are 63001 amazon items.\n"
     ]
    }
   ],
   "source": [
    "print(\"There are\",len(dataset), \"amazon items.\")"
   ]
  },
  {
   "cell_type": "markdown",
   "metadata": {},
   "source": [
    "## Loading Glove Words"
   ]
  },
  {
   "cell_type": "code",
   "execution_count": 6,
   "metadata": {},
   "outputs": [
    {
     "name": "stdout",
     "output_type": "stream",
     "text": [
      "Preloading files.. Done.\n"
     ]
    }
   ],
   "source": [
    "def loadGlove(glove_path, dim=50):\n",
    "    acceptedDimensions = [50, 100, 200, 300]\n",
    "    if dim not in acceptedDimensions:\n",
    "        print(\"You didn't choose a right dimension.\")\n",
    "        print(\"Try one of these:\", acceptedDimensions)\n",
    "        return None\n",
    "    pickleWordFile = f'{glove_path}/6B.'+str(dim)+'_words.pkl'\n",
    "    pickleIdFile   = f'{glove_path}/6B.'+str(dim)+'_idx.pkl'\n",
    "    pickleDatFile  = f'{glove_path}/glove.6B.'+str(dim)+'.dat'\n",
    "    pickleDataset  = f'{glove_path}/glove.6B.'+str(dim)+'d.txt'\n",
    "    \n",
    "    if os.path.isfile(pickleWordFile):\n",
    "        # check if we've made the outputs before\n",
    "        print(\"Preloading files..\", end=\" \")\n",
    "        vectors = bcolz.open(pickleDatFile)[:]\n",
    "        words = pickle.load(open(pickleWordFile, 'rb'))\n",
    "        word2idx = pickle.load(open(pickleIdFile, 'rb'))\n",
    "        glove = {w: vectors[word2idx[w]] for w in words}\n",
    "        print(\"Done.\")\n",
    "        return glove\n",
    "    else:\n",
    "        print(\"Doesn't work.\", end=\" \")\n",
    "\n",
    "glove = loadGlove(params['glovePath'], dim=params['gloveDimension'])\n",
    "gloveWords = glove.keys()"
   ]
  },
  {
   "cell_type": "code",
   "execution_count": 7,
   "metadata": {},
   "outputs": [
    {
     "name": "stdout",
     "output_type": "stream",
     "text": [
      "Glove Vocabulary Size: 400000\n"
     ]
    }
   ],
   "source": [
    "print(\"Glove Vocabulary Size:\",len(gloveWords))"
   ]
  },
  {
   "cell_type": "markdown",
   "metadata": {},
   "source": [
    "## Preprocessing Data"
   ]
  },
  {
   "cell_type": "code",
   "execution_count": 8,
   "metadata": {},
   "outputs": [],
   "source": [
    "def preprocess(paragraph):\n",
    "    # split paragraph by full stops\n",
    "    paragraph = paragraph.lower()\n",
    "    paragraph = re.sub(\"([,!?()-+&£$.%*'])\", r' \\1 ', paragraph)\n",
    "    paragraph = re.sub('\\s{2,}', ' ', paragraph)\n",
    "    paragraph = paragraph.split(\" \")\n",
    "    # remove empty string\n",
    "    return paragraph\n",
    "    \n",
    "def discretise(value, word):\n",
    "    return word + \"_\" + str(value)"
   ]
  },
  {
   "cell_type": "code",
   "execution_count": 9,
   "metadata": {},
   "outputs": [],
   "source": [
    "def handleItem(itemID, dataset=dataset, printDebug=False, condition=params['conditioning']):\n",
    "    \"\"\"\n",
    "    Filters words out based on whether they're in the GloVe dataset or not.\n",
    "    \n",
    "    Parameters:\n",
    "    \n",
    "    \"\"\"\n",
    "\n",
    "    reviews = []\n",
    "    for i in range(len(dataset[itemID])):\n",
    "        # initialise variables\n",
    "        entry = dataset[itemID][i]\n",
    "        reviewerID = entry['reviewerID']\n",
    "        \n",
    "        if len(entry['reviewText']) < 1:\n",
    "            continue\n",
    "\n",
    "        \"\"\"\n",
    "        Review Text Processing\n",
    "        \"\"\"\n",
    "        \n",
    "\n",
    "        # spacy method\n",
    "        sentences = [[str(i).lower() for i in tokenizer(str(sentence))] for sentence in nlp(entry['reviewText']).sents]\n",
    "        \n",
    "        # preprocess summary\n",
    "        summary = [str(i).lower() for i in tokenizer(entry['summary'])]\n",
    "        \n",
    "        entries = [summary] + sentences\n",
    "        entries = [x + [\"<eos>\"] for x in entries]\n",
    "  \n",
    "        # setup review parameters\n",
    "        rating   = [discretise(entry['overall'], \"rating\")]\n",
    "\n",
    "        # compute polarity\n",
    "        good, bad = entry['helpful'][0], entry['helpful'][1]\n",
    "        \n",
    "        try:\n",
    "            polarity = good/bad\n",
    "            if polarity > 1:\n",
    "                polarity = 1\n",
    "            elif polarity < -1:\n",
    "                polarity = -1\n",
    "        except ZeroDivisionError:\n",
    "            if good > bad:\n",
    "                polarity = 1\n",
    "            else:\n",
    "                polarity = -1\n",
    "        polarity = np.tanh(polarity)\n",
    "        polarity = np.round(polarity, 1)\n",
    "        polarity = [discretise(polarity, \"polarity\")]\n",
    "\n",
    "        # create identity/conditioning entry\n",
    "        identifier = itemID.lower()\n",
    "        identity = [l for l in identifier] + rating + polarity\n",
    "\n",
    "        # add conditionining entry to each entry\n",
    "        formatted = [entry for entry in entries]\n",
    "\n",
    "        if printDebug:\n",
    "            print(\"ENTRY:\",dataset[itemID][i])\n",
    "            print(\"IDENTITY:\",identity)\n",
    "\n",
    "        for i in range(len(formatted)-1):\n",
    "            # add the conditioning variable to the input. the output value does not have the conditioning variable.\n",
    "            if condition:\n",
    "                reviews.append([identity + formatted[i], formatted[i+1]])\n",
    "            else:\n",
    "                reviews.append([formatted[i], formatted[i+1]])\n",
    "            if printDebug:\n",
    "                print(reviews[-1][0], \"->\", reviews[-1][1])\n",
    "        if printDebug:\n",
    "            break\n",
    "            \n",
    "    return reviews"
   ]
  },
  {
   "cell_type": "code",
   "execution_count": 10,
   "metadata": {},
   "outputs": [
    {
     "name": "stdout",
     "output_type": "stream",
     "text": [
      "ENTRY: {'reviewerID': 'AA8JH8LD2H4P9', 'asin': '7214047977', 'reviewerName': 'Claudia J. Frier', 'helpful': [3, 4], 'reviewText': 'This fits my 7\" kindle fire hd perfectly! I love it. It even has a slot for a stylus. The kindle is velcroed in so it\\'s nice and secure. Very glad I bought this!', 'overall': 5.0, 'summary': 'love it', 'unixReviewTime': 1354665600, 'reviewTime': '12 5, 2012'}\n",
      "IDENTITY: ['7', '2', '1', '4', '0', '4', '7', '9', '7', '7', 'rating_5.0', 'polarity_0.6']\n",
      "['7', '2', '1', '4', '0', '4', '7', '9', '7', '7', 'rating_5.0', 'polarity_0.6', 'love', 'it', '<eos>'] -> ['this', 'fits', 'my', '7', '\"', 'kindle', 'fire', 'hd', 'perfectly', '!', '<eos>']\n",
      "['7', '2', '1', '4', '0', '4', '7', '9', '7', '7', 'rating_5.0', 'polarity_0.6', 'this', 'fits', 'my', '7', '\"', 'kindle', 'fire', 'hd', 'perfectly', '!', '<eos>'] -> ['i', 'love', 'it', '.', '<eos>']\n",
      "['7', '2', '1', '4', '0', '4', '7', '9', '7', '7', 'rating_5.0', 'polarity_0.6', 'i', 'love', 'it', '.', '<eos>'] -> ['it', 'even', 'has', 'a', 'slot', 'for', 'a', 'stylus', '.', '<eos>']\n",
      "['7', '2', '1', '4', '0', '4', '7', '9', '7', '7', 'rating_5.0', 'polarity_0.6', 'it', 'even', 'has', 'a', 'slot', 'for', 'a', 'stylus', '.', '<eos>'] -> ['the', 'kindle', 'is', 'velcroed', 'in', 'so', 'it', \"'s\", 'nice', 'and', 'secure', '.', '<eos>']\n",
      "['7', '2', '1', '4', '0', '4', '7', '9', '7', '7', 'rating_5.0', 'polarity_0.6', 'the', 'kindle', 'is', 'velcroed', 'in', 'so', 'it', \"'s\", 'nice', 'and', 'secure', '.', '<eos>'] -> ['very', 'glad', 'i', 'bought', 'this', '!', '<eos>']\n"
     ]
    }
   ],
   "source": [
    "datasetKeys = list(dataset.keys())\n",
    "example_set = handleItem(datasetKeys[params['example_item_id']],printDebug=True)"
   ]
  },
  {
   "cell_type": "code",
   "execution_count": 11,
   "metadata": {},
   "outputs": [
    {
     "name": "stdout",
     "output_type": "stream",
     "text": [
      "ENTRY: {'reviewerID': 'A35U66IR43E4U6', 'asin': '9043413585', 'reviewerName': 'Amazon Customer', 'helpful': [1, 2], 'reviewText': 'I ordered this thing and received it,I tried for hours to get it to connect to my home wifi network but to no avail.A couple of months later I bought a smartphone and connected to my wifi network in seconds,dont buy this piece of junk.', 'overall': 1.0, 'summary': 'Piece of Junk', 'unixReviewTime': 1318809600, 'reviewTime': '10 17, 2011'}\n",
      "IDENTITY: ['9', '0', '4', '3', '4', '1', '3', '5', '8', '5', 'rating_1.0', 'polarity_0.5']\n",
      "['9', '0', '4', '3', '4', '1', '3', '5', '8', '5', 'rating_1.0', 'polarity_0.5', 'piece', 'of', 'junk', '<eos>'] -> ['i', 'ordered', 'this', 'thing', 'and', 'received', 'it', ',', 'i', 'tried', 'for', 'hours', 'to', 'get', 'it', 'to', 'connect', 'to', 'my', 'home', 'wifi', 'network', 'but', 'to', 'no', 'avail', '.', '<eos>']\n",
      "['9', '0', '4', '3', '4', '1', '3', '5', '8', '5', 'rating_1.0', 'polarity_0.5', 'i', 'ordered', 'this', 'thing', 'and', 'received', 'it', ',', 'i', 'tried', 'for', 'hours', 'to', 'get', 'it', 'to', 'connect', 'to', 'my', 'home', 'wifi', 'network', 'but', 'to', 'no', 'avail', '.', '<eos>'] -> ['a', 'couple', 'of', 'months', 'later', 'i', 'bought', 'a', 'smartphone', 'and', 'connected', 'to', 'my', 'wifi', 'network', 'in', 'seconds', ',', 'dont', 'buy', 'this', 'piece', 'of', 'junk', '.', '<eos>']\n"
     ]
    }
   ],
   "source": [
    "example_set = handleItem(datasetKeys[25],printDebug=True)"
   ]
  },
  {
   "cell_type": "code",
   "execution_count": 12,
   "metadata": {},
   "outputs": [],
   "source": [
    "\n",
    "identity = example_set[0][0][:example_set[0][0].index(\"<eos>\")]\n",
    "\n",
    "example_tag = {\"reference\":dataset[datasetKeys[params['example_item_id']]][0],\n",
    "               \"result\":example_set}\n",
    "# print(json.dumps(example_tag, indent=2, sort_keys=True))"
   ]
  },
  {
   "cell_type": "code",
   "execution_count": 13,
   "metadata": {},
   "outputs": [
    {
     "name": "stdout",
     "output_type": "stream",
     "text": [
      "63001\n"
     ]
    }
   ],
   "source": [
    "print(len(datasetKeys))"
   ]
  },
  {
   "cell_type": "code",
   "execution_count": 14,
   "metadata": {},
   "outputs": [],
   "source": [
    "def processItems(func, args, n_processes = 7):\n",
    "    p = Pool(n_processes)\n",
    "    res_list = []\n",
    "    with tqdm(total = len(args)) as pbar:\n",
    "        for i, res in enumerate(p.imap_unordered(func, args)):\n",
    "            pbar.update()\n",
    "            res_list.append(res)\n",
    "    pbar.close()\n",
    "    p.close()\n",
    "    p.join()\n",
    "    return res_list"
   ]
  },
  {
   "cell_type": "code",
   "execution_count": 15,
   "metadata": {},
   "outputs": [
    {
     "name": "stderr",
     "output_type": "stream",
     "text": [
      "100%|██████████| 3938/3938 [00:47<00:00, 82.38it/s]\n"
     ]
    }
   ],
   "source": [
    "reviews = processItems(handleItem,datasetKeys[::params['datasetReduction']])"
   ]
  },
  {
   "cell_type": "code",
   "execution_count": 16,
   "metadata": {},
   "outputs": [
    {
     "name": "stdout",
     "output_type": "stream",
     "text": [
      "polarity_-0.8 \t 294843\n",
      "polarity_0.0 \t 32818\n",
      "polarity_0.1 \t 1882\n",
      "polarity_0.2 \t 4514\n",
      "polarity_0.3 \t 7278\n",
      "polarity_0.4 \t 5808\n",
      "polarity_0.5 \t 37145\n",
      "polarity_0.6 \t 42455\n",
      "polarity_0.7 \t 82582\n",
      "polarity_0.8 \t 218248\n"
     ]
    }
   ],
   "source": [
    "pols = {}\n",
    "for r in reviews:\n",
    "    for seq in r:\n",
    "        polarity = seq[0][11]\n",
    "        if polarity not in pols:\n",
    "            pols[polarity] = 0\n",
    "        pols[polarity] += 1\n",
    "# print(pols)\n",
    "for key in sorted(pols.keys()):\n",
    "    print(key,\"\\t\", pols[key])"
   ]
  },
  {
   "cell_type": "code",
   "execution_count": 17,
   "metadata": {},
   "outputs": [
    {
     "name": "stdout",
     "output_type": "stream",
     "text": [
      "Num Reviews:\n",
      "Training: 3347 \t\tValidation: 393 \tTest: 198\n",
      "Sequences:\n",
      "Training: 619718 \tValidation: 64913 \tTest: 42942\n"
     ]
    }
   ],
   "source": [
    "datasetSize = len(reviews)\n",
    "trainRatio = int(datasetSize * params['trainPortion'])\n",
    "valRatio = int(datasetSize * params['valPortion'])\n",
    "train = reviews[:trainRatio]\n",
    "validation = reviews[trainRatio:trainRatio+valRatio]\n",
    "test = reviews[trainRatio+valRatio:]\n",
    "\n",
    "print(\"Num Reviews:\")\n",
    "print(\"Training:\", len(train), \"\\t\\tValidation:\",len(validation), \"\\tTest:\",len(test))\n",
    "\n",
    "# now we need to flatten train and validation.\n",
    "trainents = []\n",
    "for review in train:\n",
    "    trainents += [entry for entry in review]\n",
    "valents = []\n",
    "for review in validation:\n",
    "    valents += [entry for entry in review]\n",
    "testents = []\n",
    "for review in test:\n",
    "    testents += [entry for entry in review]\n",
    "    \n",
    "train = trainents\n",
    "validation = valents\n",
    "test = testents\n",
    "\n",
    "print(\"Sequences:\")\n",
    "print(\"Training:\",len(train),\"\\tValidation:\",len(validation), \"\\tTest:\",len(test))"
   ]
  },
  {
   "cell_type": "code",
   "execution_count": 18,
   "metadata": {},
   "outputs": [
    {
     "name": "stdout",
     "output_type": "stream",
     "text": [
      "[['b', '0', '0', '0', '0', '0', 'j', '1', 'u', 'b', 'rating_5.0', 'polarity_-0.8', 'kb', 'at', 'to', 'ps/2', 'adapter', '<eos>'], ['the', 'package', 'arrived', 'in', 'a', 'timely', 'fashion', 'and', 'in', 'good', 'shape', '.', '<eos>']]\n"
     ]
    }
   ],
   "source": [
    "# get the number of itemIDs\n",
    "for row in train:\n",
    "    print(row)\n",
    "    break"
   ]
  },
  {
   "cell_type": "markdown",
   "metadata": {},
   "source": [
    "## Getting ID's of words"
   ]
  },
  {
   "cell_type": "markdown",
   "metadata": {},
   "source": [
    "To improve the throughput of the model, we should reduce the embedding size. Here we'll look at all the words and keep track ones that exist. We'll make a reduced word2id based on this set."
   ]
  },
  {
   "cell_type": "code",
   "execution_count": 19,
   "metadata": {},
   "outputs": [],
   "source": [
    "wordcounts = {}"
   ]
  },
  {
   "cell_type": "code",
   "execution_count": 20,
   "metadata": {},
   "outputs": [
    {
     "name": "stdout",
     "output_type": "stream",
     "text": [
      "Subsetting Reviews..\n",
      "We now have 619718 reviews.\n"
     ]
    }
   ],
   "source": [
    "# here we reduce the size of the dataset so we can debug our model.\n",
    "print(\"Subsetting Reviews..\")\n",
    "print(\"We now have\", len(train), \"reviews.\")"
   ]
  },
  {
   "cell_type": "code",
   "execution_count": 21,
   "metadata": {},
   "outputs": [
    {
     "name": "stderr",
     "output_type": "stream",
     "text": [
      "100%|██████████| 619718/619718 [00:10<00:00, 58059.60it/s]\n"
     ]
    }
   ],
   "source": [
    "# get word frequency for words in training data\n",
    "for row in tqdm(train):\n",
    "    for sequences in row:\n",
    "        for word in sequences:\n",
    "            word = str(word)\n",
    "            # setup container if word does not exist\n",
    "            if word not in wordcounts:\n",
    "                wordcounts[word] = 0\n",
    "            # increment\n",
    "            wordcounts[word] += 1"
   ]
  },
  {
   "cell_type": "code",
   "execution_count": 22,
   "metadata": {},
   "outputs": [],
   "source": [
    "# get words that are not in the glove dataset\n",
    "knowns   = [word for word in wordcounts if word in glove]\n",
    "unknowns = [word for word in wordcounts if word not in glove]\n",
    "# sort words by their frequency\n",
    "wordOrder = list(sorted(knowns, key=lambda x: wordcounts[x], reverse=True))"
   ]
  },
  {
   "cell_type": "code",
   "execution_count": 23,
   "metadata": {},
   "outputs": [
    {
     "name": "stdout",
     "output_type": "stream",
     "text": [
      "42914 91235\n"
     ]
    }
   ],
   "source": [
    "print(len(knowns), len(unknowns))"
   ]
  },
  {
   "cell_type": "code",
   "execution_count": 24,
   "metadata": {},
   "outputs": [],
   "source": [
    "# threshold number of tokens based on the vocabulary limit.\n",
    "wordOrder = wordOrder[:params['vocabularyLimit']]"
   ]
  },
  {
   "cell_type": "code",
   "execution_count": 25,
   "metadata": {},
   "outputs": [],
   "source": [
    "# store glove vectors for each token\n",
    "weights = [glove[word] for word in wordOrder]"
   ]
  },
  {
   "cell_type": "code",
   "execution_count": 26,
   "metadata": {},
   "outputs": [],
   "source": [
    "# create vectors for rating and polarity\n",
    "for word in unknowns:\n",
    "    if (\"rating\" in word) or (\"polarity\" in word):\n",
    "        try:\n",
    "            part = word.split(\"_\")\n",
    "            if part[1] == \"-0.0\":\n",
    "                part[1] = \"0.0\"\n",
    "            weight = glove[part[0]] + glove[part[1]]\n",
    "            wordOrder.append(word)\n",
    "            weights.append(weight)\n",
    "        except:\n",
    "            pass"
   ]
  },
  {
   "cell_type": "code",
   "execution_count": 27,
   "metadata": {},
   "outputs": [],
   "source": [
    "# create dictionaries for constant time referencing\n",
    "id2word = {idx: w for (idx, w) in enumerate(wordOrder)}\n",
    "word2id = {w: idx for (idx, w) in enumerate(wordOrder)}"
   ]
  },
  {
   "cell_type": "code",
   "execution_count": 28,
   "metadata": {},
   "outputs": [],
   "source": [
    "lim = len(word2id)\n",
    "\n",
    "# add <sos> (start of sequence)\n",
    "weights.append(glove['sos'])\n",
    "word2id['<sos>'] = lim\n",
    "id2word[lim] = ['<sos>']\n",
    "lim += 1\n",
    "\n",
    "# add <eos> (end of sequence)\n",
    "weights.append(glove['eos'])\n",
    "word2id['<eos>'] = lim\n",
    "id2word[lim] = '<eos>'\n",
    "lim += 1\n",
    "\n",
    "\n",
    "gloveDimension = params['gloveDimension']\n",
    "\n",
    "sorWeight = np.random.normal(0,0.5,gloveDimension)\n",
    "weights.append(sorWeight)\n",
    "word2id['<summary>'] = lim\n",
    "id2word[lim] = '<summary>'\n",
    "lim += 1\n",
    "\n",
    "sorWeight = np.random.normal(0,0.5,gloveDimension)\n",
    "weights.append(sorWeight)\n",
    "word2id['</summary>'] = lim\n",
    "id2word[lim] = '</summary>'\n",
    "lim += 1\n",
    "\n",
    "sorWeight = np.random.normal(0,0.5,gloveDimension)\n",
    "weights.append(sorWeight)\n",
    "word2id['<text>'] = lim\n",
    "id2word[lim] = '<text>'\n",
    "lim += 1\n",
    "\n",
    "sorWeight = np.random.normal(0,0.5,gloveDimension)\n",
    "weights.append(sorWeight)\n",
    "word2id['</text>'] = lim\n",
    "id2word[lim] = '</text>'\n",
    "lim += 1\n",
    "\n",
    "\n",
    "# add <unk> (unknown token)\n",
    "weights.append(glove['unk'])\n",
    "word2id['<unk>'] = lim\n",
    "id2word[lim] = '<unk>'\n",
    "\n",
    "# add <pad> \n",
    "id2word[len(word2id)] = \"<pad>\"\n",
    "word2id[\"<pad>\"] = len(word2id)\n",
    "weights.append(np.random.normal(0,0,gloveDimension))"
   ]
  },
  {
   "cell_type": "code",
   "execution_count": 29,
   "metadata": {},
   "outputs": [],
   "source": [
    "# create functions that incorporate dictionary search\n",
    "# and returns <unk> token upon failure\n",
    "def wordToID(word,corp=word2id):\n",
    "    if word in corp:\n",
    "        return corp[word]\n",
    "    return corp['<unk>']\n",
    "\n",
    "def IDToWord(id,corp=id2word, ref=word2id):\n",
    "    if id in corp:\n",
    "        return corp[id]\n",
    "    return corp[ref['<unk>']]"
   ]
  },
  {
   "cell_type": "code",
   "execution_count": 30,
   "metadata": {},
   "outputs": [
    {
     "name": "stderr",
     "output_type": "stream",
     "text": [
      "100%|██████████| 619718/619718 [00:06<00:00, 90586.74it/s] \n",
      "100%|██████████| 64913/64913 [00:00<00:00, 107359.32it/s]\n",
      "100%|██████████| 42942/42942 [00:00<00:00, 105621.50it/s]\n"
     ]
    }
   ],
   "source": [
    "# convert words to their id's in the review.\n",
    "def entriesToWordIDs(group):\n",
    "    return [[[wordToID(word) for word in seq] for seq in row] for row in tqdm(group)]\n",
    "    \n",
    "train = entriesToWordIDs(train)\n",
    "validation = entriesToWordIDs(validation)\n",
    "test = entriesToWordIDs(test)"
   ]
  },
  {
   "cell_type": "code",
   "execution_count": 31,
   "metadata": {},
   "outputs": [
    {
     "name": "stderr",
     "output_type": "stream",
     "text": [
      "100%|██████████| 619718/619718 [00:01<00:00, 520592.42it/s]\n",
      "100%|██████████| 64913/64913 [00:00<00:00, 499060.32it/s]\n",
      "100%|██████████| 42942/42942 [00:00<00:00, 489230.84it/s]\n"
     ]
    },
    {
     "data": {
      "image/png": "[encoded data removed]",
      "text/plain": [
       "<Figure size 432x288 with 1 Axes>"
      ]
     },
     "metadata": {
      "needs_background": "light"
     },
     "output_type": "display_data"
    }
   ],
   "source": [
    "unk_ratios = {}\n",
    "for batch in [train, validation,test]:\n",
    "    for seq in tqdm(batch):\n",
    "        ratio = seq[0].count(wordToID('<unk>'))/len(seq[0])\n",
    "        ratio = round(ratio,2)\n",
    "        if ratio not in unk_ratios:\n",
    "            unk_ratios[ratio] = 0\n",
    "        unk_ratios[ratio] += 1\n",
    "ratio_x = [i/100 for i in range(0, 100, 1)]\n",
    "ratio_y = [unk_ratios[i] if i in unk_ratios else 0.0 for i in ratio_x]\n",
    "ratio_x = [round(i * 100,0) for i in ratio_x]\n",
    "\n",
    "plt.bar(ratio_x[1:],ratio_y[1:])\n",
    "plt.title(\"Histogram of UNK token ratios in sentences\")\n",
    "plt.xlabel(\"Ratio (%)\")\n",
    "plt.ylabel(\"Frequency\")\n",
    "plt.show()"
   ]
  },
  {
   "cell_type": "code",
   "execution_count": 32,
   "metadata": {},
   "outputs": [],
   "source": [
    "def getLongestSeq(dataset,datatype=\"train\"):\n",
    "    index = 0 if datatype is \"train\" else 1\n",
    "    sizes = {}\n",
    "    for i in range(len(dataset)):\n",
    "        row = dataset[i][index]\n",
    "        length = len(row)\n",
    "        if length not in sizes:\n",
    "            sizes[length] = []\n",
    "        sizes[length].append(i)\n",
    "\n",
    "    seqlengths = list(sorted(sizes.keys(), key=lambda x: len(sizes[x]), reverse=True))\n",
    "    print(\"The longest sequence in our \"+datatype+\" dataset is\",max(seqlengths),\"tokens long:\")\n",
    "    \n",
    "    seq_longest_id = sizes[max(seqlengths)][0]\n",
    "\n",
    "    print(\" \".join([IDToWord(x) for x in dataset[seq_longest_id][index]]))\n",
    "    \n",
    "    # used for charting purposes\n",
    "    for i in range(1709):\n",
    "        if i not in sizes:\n",
    "            sizes[i] = []\n",
    "            \n",
    "    # plot histogram of sequence lengths\n",
    "    ents = [x for x in range(0,80)]\n",
    "    bins = [len(sizes[x]) for x in ents]\n",
    "    plt.bar(ents,bins)\n",
    "    plt.show()"
   ]
  },
  {
   "cell_type": "code",
   "execution_count": 33,
   "metadata": {},
   "outputs": [
    {
     "name": "stdout",
     "output_type": "stream",
     "text": [
      "The longest sequence in our train dataset is 1631 tokens long:\n",
      "b 0 0 8 p o 5 c s i rating_1.0 polarity_0.5 file <unk> size set to 17 * record <unk> <unk> random <unk> <unk> <unk> record <unk> <unk> <unk> <unk> <unk> write <unk> <unk> read <unk> <unk> <unk> read <unk> write <unk> read <unk> <unk> <unk> read <unk> <unk> <unk> <unk> <unk> <unk> <unk> <unk> 4 <unk> <unk> <unk> <unk> <unk> <unk> <unk> <unk> <unk> <unk> <unk> <unk> <unk> <unk> <unk> <unk> <unk> <unk> <unk> <unk> <unk> <unk> <unk> <unk> <unk> <unk> <unk> 8 <unk> <unk> <unk> <unk> <unk> <unk> <unk> <unk> <unk> <unk> <unk> <unk> <unk> <unk> <unk> <unk> <unk> <unk> <unk> <unk> <unk> <unk> <unk> <unk> <unk> <unk> <unk> 16 <unk> <unk> <unk> <unk> <unk> <unk> <unk> <unk> <unk> <unk> <unk> <unk> <unk> <unk> <unk> <unk> <unk> <unk> <unk> <unk> <unk> <unk> <unk> <unk> <unk> <unk> 32 <unk> <unk> <unk> <unk> <unk> <unk> <unk> <unk> <unk> <unk> <unk> <unk> <unk> <unk> <unk> <unk> <unk> <unk> <unk> <unk> <unk> <unk> <unk> <unk> <unk> <unk> <unk> 64 <unk> <unk> <unk> <unk> <unk> <unk> <unk> <unk> <unk> <unk> <unk> <unk> <unk> <unk> <unk> <unk> <unk> <unk> <unk> <unk> <unk> <unk> <unk> <unk> <unk> <unk> 4 <unk> <unk> <unk> <unk> <unk> <unk> <unk> <unk> <unk> <unk> <unk> <unk> <unk> <unk> <unk> <unk> <unk> <unk> <unk> <unk> <unk> <unk> <unk> <unk> <unk> <unk> 8 <unk> <unk> <unk> <unk> <unk> <unk> <unk> <unk> <unk> <unk> <unk> <unk> <unk> <unk> <unk> 880 <unk> <unk> <unk> <unk> <unk> <unk> <unk> <unk> <unk> <unk> 16 <unk> <unk> <unk> <unk> <unk> <unk> <unk> <unk> <unk> <unk> <unk> <unk> <unk> <unk> <unk> <unk> <unk> <unk> <unk> <unk> <unk> <unk> <unk> <unk> <unk> <unk> 32 <unk> <unk> <unk> <unk> <unk> <unk> <unk> <unk> <unk> <unk> <unk> <unk> <unk> <unk> <unk> <unk> <unk> <unk> <unk> <unk> <unk> <unk> <unk> <unk> <unk> <unk> 64 <unk> <unk> <unk> <unk> <unk> <unk> <unk> <unk> <unk> <unk> <unk> <unk> <unk> <unk> <unk> <unk> <unk> <unk> <unk> <unk> <unk> <unk> <unk> <unk> <unk> <unk> 128 <unk> <unk> <unk> <unk> <unk> <unk> <unk> <unk> <unk> <unk> <unk> <unk> <unk> <unk> <unk> <unk> <unk> <unk> <unk> <unk> <unk> <unk> <unk> <unk> <unk> <unk> 4 <unk> <unk> <unk> <unk> <unk> <unk> <unk> <unk> <unk> <unk> <unk> <unk> <unk> <unk> <unk> <unk> <unk> <unk> <unk> <unk> <unk> <unk> <unk> <unk> <unk> <unk> <unk> 8 <unk> <unk> <unk> <unk> <unk> <unk> <unk> <unk> <unk> <unk> <unk> <unk> <unk> <unk> <unk> <unk> <unk> <unk> <unk> <unk> <unk> <unk> <unk> <unk> <unk> <unk> 16 <unk> <unk> <unk> <unk> <unk> <unk> <unk> <unk> <unk> <unk> <unk> <unk> <unk> <unk> <unk> <unk> <unk> <unk> <unk> <unk> <unk> <unk> <unk> <unk> <unk> <unk> 32 <unk> <unk> <unk> <unk> <unk> <unk> <unk> <unk> <unk> <unk> <unk> <unk> <unk> <unk> <unk> <unk> <unk> <unk> <unk> <unk> <unk> <unk> <unk> <unk> <unk> <unk> 64 <unk> <unk> <unk> <unk> <unk> <unk> <unk> <unk> <unk> <unk> <unk> <unk> <unk> <unk> <unk> <unk> <unk> <unk> <unk> <unk> <unk> <unk> <unk> <unk> <unk> <unk> 128 <unk> <unk> <unk> <unk> <unk> <unk> <unk> <unk> <unk> <unk> <unk> <unk> <unk> <unk> <unk> <unk> <unk> <unk> <unk> <unk> <unk> <unk> <unk> <unk> <unk> <unk> 256 <unk> <unk> <unk> <unk> <unk> <unk> <unk> <unk> <unk> <unk> <unk> <unk> <unk> <unk> <unk> <unk> <unk> <unk> <unk> <unk> <unk> <unk> <unk> <unk> <unk> <unk> 4 <unk> 808 <unk> <unk> <unk> <unk> <unk> <unk> <unk> <unk> <unk> <unk> <unk> <unk> <unk> 660 <unk> <unk> <unk> <unk> <unk> <unk> <unk> <unk> <unk> <unk> 8 <unk> <unk> <unk> <unk> <unk> <unk> <unk> <unk> <unk> <unk> <unk> <unk> <unk> <unk> <unk> <unk> <unk> <unk> <unk> <unk> <unk> <unk> <unk> <unk> <unk> <unk> 16 <unk> <unk> <unk> <unk> <unk> <unk> <unk> <unk> <unk> <unk> <unk> <unk> <unk> <unk> <unk> <unk> <unk> <unk> <unk> <unk> <unk> <unk> <unk> <unk> <unk> <unk> 32 <unk> <unk> <unk> <unk> <unk> <unk> <unk> <unk> <unk> <unk> <unk> <unk> <unk> <unk> <unk> <unk> <unk> <unk> <unk> <unk> <unk> <unk> <unk> <unk> <unk> <unk> 64 <unk> <unk> <unk> <unk> <unk> <unk> <unk> <unk> <unk> <unk> <unk> <unk> <unk> <unk> <unk> <unk> <unk> <unk> <unk> <unk> <unk> <unk> <unk> <unk> <unk> <unk> 128 <unk> <unk> <unk> <unk> <unk> <unk> <unk> <unk> <unk> <unk> <unk> <unk> <unk> <unk> <unk> <unk> <unk> <unk> <unk> <unk> <unk> <unk> <unk> <unk> <unk> <unk> 256 <unk> <unk> <unk> <unk> <unk> <unk> <unk> <unk> <unk> <unk> <unk> <unk> <unk> <unk> <unk> <unk> <unk> <unk> <unk> <unk> <unk> <unk> <unk> <unk> <unk> <unk> 512 <unk> <unk> <unk> <unk> <unk> <unk> <unk> <unk> <unk> <unk> <unk> <unk> <unk> <unk> <unk> <unk> <unk> <unk> <unk> <unk> <unk> <unk> <unk> <unk> <unk> <unk> 4 <unk> <unk> <unk> <unk> <unk> <unk> <unk> <unk> <unk> <unk> <unk> <unk> <unk> <unk> <unk> <unk> <unk> <unk> <unk> <unk> <unk> <unk> <unk> <unk> <unk> <unk> 8 <unk> <unk> <unk> <unk> <unk> <unk> <unk> <unk> <unk> <unk> <unk> <unk> <unk> <unk> <unk> <unk> <unk> <unk> <unk> <unk> <unk> <unk> <unk> <unk> <unk> <unk> 16 <unk> <unk> <unk> <unk> <unk> <unk> <unk> <unk> <unk> <unk> <unk> <unk> <unk> <unk> <unk> <unk> <unk> <unk> <unk> <unk> <unk> <unk> <unk> <unk> <unk> <unk> 32 <unk> <unk> <unk> <unk> <unk> <unk> <unk> <unk> <unk> <unk> <unk> <unk> <unk> <unk> <unk> <unk> <unk> <unk> <unk> <unk> <unk> <unk> <unk> <unk> <unk> <unk> 64 <unk> <unk> <unk> <unk> <unk> <unk> <unk> <unk> <unk> <unk> <unk> <unk> <unk> <unk> <unk> <unk> <unk> <unk> <unk> <unk> <unk> <unk> <unk> <unk> <unk> <unk> 128 <unk> <unk> <unk> <unk> <unk> <unk> <unk> <unk> <unk> <unk> <unk> <unk> <unk> <unk> <unk> <unk> <unk> <unk> <unk> <unk> <unk> <unk> <unk> <unk> <unk> <unk> 256 <unk> <unk> <unk> <unk> <unk> <unk> <unk> <unk> <unk> <unk> <unk> <unk> <unk> <unk> <unk> <unk> <unk> <unk> <unk> <unk> <unk> <unk> <unk> <unk> <unk> <unk> 512 <unk> <unk> <unk> <unk> <unk> <unk> <unk> <unk> <unk> <unk> <unk> <unk> <unk> <unk> <unk> <unk> <unk> <unk> <unk> <unk> <unk> <unk> <unk> <unk> <unk> <unk> 1024 <unk> <unk> <unk> <unk> <unk> <unk> <unk> <unk> <unk> <unk> <unk> <unk> <unk> <unk> <unk> <unk> <unk> <unk> <unk> <unk> <unk> <unk> <unk> <unk> <unk> <unk> 4 <unk> <unk> <unk> <unk> <unk> <unk> <unk> <unk> <unk> <unk> <unk> 808 <unk> <unk> <unk> <unk> <unk> <unk> <unk> <unk> <unk> <unk> <unk> <unk> <unk> <unk> 8 <unk> <unk> <unk> <unk> <unk> <unk> <unk> <unk> <unk> <unk> <unk> <unk> <unk> <unk> <unk> <unk> <unk> <unk> <unk> <unk> <unk> <unk> <unk> <unk> <unk> <unk> 16 <unk> <unk> <unk> <unk> <unk> <unk> <unk> <unk> <unk> <unk> <unk> <unk> <unk> <unk> <unk> <unk> <unk> <unk> <unk> <unk> <unk> <unk> <unk> <unk> <unk> <unk> 32 <unk> <unk> <unk> 5100 <unk> <unk> <unk> <unk> <unk> <unk> <unk> <unk> <unk> <unk> <unk> <unk> <unk> <unk> <unk> <unk> <unk> <unk> <unk> <unk> <unk> <unk> 64 <unk> <unk> <unk> <unk> <unk> <unk> <unk> <unk> <unk> <unk> <unk> <unk> <unk> <unk> <unk> <unk> <unk> <unk> <unk> <unk> <unk> <unk> <unk> <unk> <unk> <unk> 128 <unk> <unk> <unk> <unk> <unk> <unk> <unk> <unk> <unk> <unk> <unk> <unk> <unk> <unk> <unk> <unk> <unk> <unk> <unk> <unk> <unk> <unk> <unk> <unk> <unk> <unk> 256 <unk> <unk> <unk> <unk> <unk> <unk> <unk> <unk> <unk> <unk> <unk> <unk> <unk> <unk> <unk> <unk> <unk> <unk> <unk> <unk> <unk> <unk> <unk> <unk> <unk> <unk> 512 <unk> <unk> <unk> <unk> <unk> <unk> <unk> <unk> <unk> <unk> <unk> <unk> <unk> <unk> <unk> <unk> <unk> <unk> <unk> <unk> <unk> <unk> <unk> <unk> <unk> <unk> 1024 <unk> <unk> <unk> <unk> <unk> <unk> <unk> <unk> <unk> <unk> <unk> <unk> <unk> <unk> <unk> <unk> <unk> <unk> <unk> <unk> <unk> <unk> <unk> <unk> <unk> <unk> <unk> <unk> <unk> <unk> <unk> <unk> <unk> <unk> <unk> <unk> <unk> <unk> <unk> <unk> <unk> <unk> <unk> <unk> <unk> <unk> <unk> <unk> <unk> <unk> <unk> <unk> <unk> 4 <unk> <unk> <unk> <unk> <unk> <unk> <unk> <unk> <unk> <unk> <unk> <unk> <unk> <unk> <unk> <unk> <unk> <unk> <unk> <unk> <unk> <unk> <unk> <unk> <unk> <unk> 8 <unk> <unk> <unk> <unk> <unk> <unk> <unk> <unk> <unk> <unk> <unk> <unk> <unk> <unk> <unk> <unk> <unk> <unk> <unk> <unk> <unk> <unk> <unk> <unk> <unk> <unk> 16 <unk> <unk> <unk> <unk> <unk> <unk> <unk> <unk> <unk> <unk> <unk> <unk> <unk> <unk> <unk> <unk> <unk> <unk> <unk> <unk> <unk> <unk> <unk> <unk> <unk> <unk> 32 <unk> <unk> <unk> <unk> <unk> <unk> <unk> <unk> <unk> <unk> <unk> <unk> <unk> <unk> <unk> <unk> <unk> <unk> <unk> <unk> <unk> <unk> <unk> <unk> <unk> <unk> 64 <unk> <unk> <unk> <unk> <unk> <unk> <unk> <unk> <unk> <unk> <unk> <unk> <unk> <unk> <unk> <unk> <unk> <unk> <unk> <unk> <unk> <unk> <unk> <unk> <unk> <unk> 128 <unk> <unk> <unk> <unk> <unk> <unk> <unk> <unk> <unk> <unk> <unk> <unk> <unk> <unk> <unk> <unk> <unk> <unk> <unk> <unk> <unk> <unk> <unk> <unk> <unk> <unk> 256 <unk> <unk> <unk> <unk> <unk> <unk> <unk> <unk> <unk> <unk> <unk> <unk> <unk> <unk> <unk> <unk> <unk> <unk> <unk> <unk> <unk> <unk> <unk> <unk> <unk> <unk> 512 <unk> <unk> <unk> <unk> <unk> <unk> <unk> <unk> <unk> <unk> <unk> <unk> <unk> <unk> <unk> <unk> <unk> <unk> <unk> <unk> <unk> <unk> <unk> <unk> <unk> <unk> 1024 <unk> <unk> <unk> <unk> <unk> <unk> <unk> <unk> <unk> <unk> <unk> <unk> <unk> <unk> <unk> <unk> <unk> <unk> <unk> <unk> <unk> <unk> <unk> <unk> <unk> <unk> <unk> <unk> <unk> <unk> <unk> <unk> <unk> <unk> <unk> <unk> <unk> <unk> <unk> <unk> <unk> <unk> <unk> <unk> <unk> <unk> <unk> <unk> <unk> <unk> <unk> <unk> <unk> <unk> <unk> <unk> <unk> <unk> <unk> <unk> <unk> <unk> <unk> <unk> <unk> <unk> <unk> <unk> <unk> <unk> <unk> <unk> <unk> <unk> <unk> <unk> <unk> <unk> <unk> <unk> 4 <unk> <unk> <unk> <unk> <unk> <unk> <unk> <unk> <unk> <unk> <unk> <unk> <unk> <unk> <unk> <unk> <unk> <unk> <unk> <unk> <unk> <unk> <unk> <unk> <unk> from the article : [ ... ] ( ... ) manufacturers are <unk> ssds with one hardware specification , and then quietly changing the hardware configuration after reviews have gone out . <eos>\n"
     ]
    },
    {
     "data": {
      "image/png": "[encoded data removed]",
      "text/plain": [
       "<Figure size 432x288 with 1 Axes>"
      ]
     },
     "metadata": {
      "needs_background": "light"
     },
     "output_type": "display_data"
    }
   ],
   "source": [
    "getLongestSeq(train,datatype=\"train\")"
   ]
  },
  {
   "cell_type": "code",
   "execution_count": 34,
   "metadata": {},
   "outputs": [
    {
     "name": "stdout",
     "output_type": "stream",
     "text": [
      "The longest sequence in our validation dataset is 550 tokens long:\n",
      "test file created on saturday , april 06 , 2013 at <unk> volume name : <unk> <unk> volume type : <unk> <unk> volume size : <unk> <unk> volume free space : <unk> <unk> disk cache effects : <unk> reads and writes performed <unk> test results : test cycles : <unk> size <unk> sequential read <unk> sequential write <unk> random read <unk> random <unk> <unk> <unk> <unk> mb / sec <unk> <unk> mb / sec <unk> <unk> mb / sec <unk> <unk> mb / <unk> <unk> <unk> <unk> mb / sec <unk> <unk> mb / sec <unk> <unk> mb / sec <unk> <unk> mb / <unk> <unk> <unk> <unk> mb / sec <unk> <unk> mb / sec <unk> <unk> mb / sec <unk> <unk> mb / <unk> <unk> <unk> <unk> mb / sec <unk> <unk> mb / sec <unk> <unk> mb / sec <unk> <unk> mb / <unk> <unk> <unk> <unk> mb / sec <unk> <unk> mb / sec <unk> <unk> mb / sec <unk> <unk> mb / <unk> <unk> <unk> <unk> mb / sec <unk> <unk> mb / sec <unk> <unk> mb / sec <unk> <unk> mb / <unk> <unk> <unk> <unk> mb / sec <unk> <unk> mb / sec <unk> <unk> mb / sec <unk> <unk> mb / <unk> <unk> <unk> <unk> mb / sec <unk> <unk> mb / sec <unk> <unk> mb / sec <unk> <unk> mb / <unk> <unk> <unk> <unk> mb / sec <unk> <unk> mb / sec <unk> <unk> mb / sec <unk> <unk> mb / <unk> <unk> <unk> <unk> mb / sec <unk> <unk> mb / sec <unk> <unk> mb / sec <unk> <unk> mb / <unk> test results : test cycles : <unk> size <unk> large read <unk> large <unk> <unk> <unk> <unk> mb / sec <unk> <unk> mb / <unk> <unk> <unk> <unk> mb / sec <unk> <unk> mb / <unk> <unk> <unk> <unk> mb / sec <unk> <unk> mb / <unk> <unk> <unk> <unk> mb / sec <unk> <unk> mb / <unk> <unk> <unk> <unk> mb / sec <unk> <unk> mb / <unk> <unk> <unk> <unk> mb / sec <unk> <unk> mb / <unk> <unk> <unk> <unk> mb / sec <unk> <unk> mb / <unk> <unk> <unk> <unk> mb / sec <unk> <unk> mb / <unk> <unk> <unk> <unk> mb / sec <unk> <unk> mb / <unk> <unk> <unk> <unk> mb / sec <unk> <unk> mb / <unk> test results : test cycles : <unk> size <unk> extended read <unk> extended <unk> <unk> <unk> <unk> mb / sec <unk> <unk> mb / <unk> <unk> <unk> <unk> mb / sec <unk> <unk> mb / <unk> <unk> <unk> <unk> mb / sec <unk> <unk> mb / <unk> <unk> <unk> <unk> mb / sec <unk> <unk> mb / <unk> <unk> <unk> <unk> mb / sec <unk> <unk> mb / <unk> <unk> <unk> <unk> mb / sec <unk> <unk> mb / <unk> <unk> <unk> <unk> mb / sec <unk> <unk> mb / <unk> <unk> <unk> <unk> mb / sec <unk> <unk> mb / <unk> <unk> <unk> <unk> mb / sec <unk> <unk> mb / <unk> <unk> <unk> <unk> mb / sec <unk> <unk> mb / <unk> tests not <unk> results : seagate backup plus 3 tb thunderbolt desktop external hard drive for mac ( <unk> ) 4.0 test <unk> - 2007 <unk> software <unk> <eos>\n"
     ]
    },
    {
     "data": {
      "image/png": "[encoded data removed]",
      "text/plain": [
       "<Figure size 432x288 with 1 Axes>"
      ]
     },
     "metadata": {
      "needs_background": "light"
     },
     "output_type": "display_data"
    }
   ],
   "source": [
    "getLongestSeq(validation,datatype=\"validation\")"
   ]
  },
  {
   "cell_type": "code",
   "execution_count": 35,
   "metadata": {},
   "outputs": [
    {
     "name": "stdout",
     "output_type": "stream",
     "text": [
      "Cutoff sequence length: 60\n"
     ]
    }
   ],
   "source": [
    "print(\"Cutoff sequence length:\", params['cutoff'])"
   ]
  },
  {
   "cell_type": "code",
   "execution_count": 36,
   "metadata": {},
   "outputs": [
    {
     "name": "stderr",
     "output_type": "stream",
     "text": [
      " 43%|████▎     | 265257/619718 [00:00<00:00, 2652559.88it/s]"
     ]
    },
    {
     "name": "stdout",
     "output_type": "stream",
     "text": [
      "Trimming Sequences..\n",
      "BEFORE: 619718 64913 42942\n"
     ]
    },
    {
     "name": "stderr",
     "output_type": "stream",
     "text": [
      "100%|██████████| 619718/619718 [00:00<00:00, 2609963.05it/s]\n",
      "100%|██████████| 64913/64913 [00:00<00:00, 2219309.22it/s]\n",
      "100%|██████████| 42942/42942 [00:00<00:00, 2470940.60it/s]"
     ]
    },
    {
     "name": "stdout",
     "output_type": "stream",
     "text": [
      "AFTER: 594131 61859 40822\n"
     ]
    },
    {
     "name": "stderr",
     "output_type": "stream",
     "text": [
      "\n"
     ]
    }
   ],
   "source": [
    "def trimSeq(group, cutoff):\n",
    "    good = []\n",
    "    for i in tqdm(range(len(group))):\n",
    "        row = group[i]\n",
    "        # keep sequences where the input and output are both shorter\n",
    "        # in length compared to cutoff.\n",
    "        if len(row[0]) <= cutoff and len(row[1]) <= cutoff:\n",
    "            good.append(i) \n",
    "    group = [group[x] for x in good]\n",
    "    return group\n",
    "\n",
    "print(\"Trimming Sequences..\")\n",
    "print(\"BEFORE:\", len(train), len(validation), len(test))\n",
    "train = trimSeq(train, params['cutoff'])\n",
    "validation = trimSeq(validation, params['cutoff'])\n",
    "test = trimSeq(test, params['cutoff'])\n",
    "print(\"AFTER:\", len(train), len(validation), len(test))"
   ]
  },
  {
   "cell_type": "code",
   "execution_count": 37,
   "metadata": {},
   "outputs": [
    {
     "name": "stderr",
     "output_type": "stream",
     "text": [
      " 29%|██▉       | 173673/594131 [00:00<00:00, 860310.32it/s]"
     ]
    },
    {
     "name": "stdout",
     "output_type": "stream",
     "text": [
      "Removing sequences with high UNK token counts..\n",
      "BEFORE: 594131 61859 40822\n"
     ]
    },
    {
     "name": "stderr",
     "output_type": "stream",
     "text": [
      "100%|██████████| 594131/594131 [00:00<00:00, 925875.12it/s]\n",
      "100%|██████████| 61859/61859 [00:00<00:00, 820355.43it/s]\n",
      "100%|██████████| 40822/40822 [00:00<00:00, 868862.99it/s]"
     ]
    },
    {
     "name": "stdout",
     "output_type": "stream",
     "text": [
      "AFTER: 522718 54291 35782\n"
     ]
    },
    {
     "name": "stderr",
     "output_type": "stream",
     "text": [
      "\n"
     ]
    }
   ],
   "source": [
    "# remove sequences where unk comprises of at least 20% of the sequence.\n",
    "def removeUnkSeqs(group, unkID=word2id['<unk>'], threshold=0.1):\n",
    "    good = []\n",
    "    for i in tqdm(range(len(group))):\n",
    "        row = group[i]\n",
    "        # keep sequences where the input and output are both shorter\n",
    "        # in length compared to cutoff.\n",
    "        inp_prob = row[0].count(unkID)/len(row[0])\n",
    "        out_prob = row[1].count(unkID)/len(row[1])\n",
    "        if inp_prob <= threshold and out_prob <= threshold:\n",
    "            good.append(i) \n",
    "    group = [group[x] for x in good]\n",
    "    return group\n",
    "\n",
    "print(\"Removing sequences with high UNK token counts..\")\n",
    "print(\"BEFORE:\", len(train), len(validation), len(test))\n",
    "train = removeUnkSeqs(train)\n",
    "validation = removeUnkSeqs(validation)\n",
    "test = removeUnkSeqs(test)\n",
    "print(\"AFTER:\", len(train), len(validation), len(test))"
   ]
  },
  {
   "cell_type": "code",
   "execution_count": 38,
   "metadata": {},
   "outputs": [],
   "source": [
    "# create container ready for use in dataset\n",
    "# we do not add padding here as we want to reduce storage size!\n",
    "container = {\n",
    "    'id2word' : id2word,\n",
    "    'word2id' : word2id,\n",
    "    'train' : train,\n",
    "    'validation': validation,\n",
    "    'test': test,\n",
    "    'weights' : np.matrix(weights),\n",
    "    'cutoff' : params['cutoff']\n",
    "}"
   ]
  },
  {
   "cell_type": "code",
   "execution_count": 39,
   "metadata": {},
   "outputs": [
    {
     "name": "stdout",
     "output_type": "stream",
     "text": [
      "Saved! 85.2 MB\n",
      "Save location: ../Datasets/Reviews/dataset_ready.pkl\n",
      "dataset parameters save location: ../Datasets/Reviews/dataset_parameters.json\n"
     ]
    }
   ],
   "source": [
    "def convert_bytes(num):\n",
    "    \"\"\"\n",
    "    this function will convert bytes to MB.... GB... etc\n",
    "    \"\"\"\n",
    "    for x in ['bytes', 'KB', 'MB', 'GB', 'TB']:\n",
    "        if num < 1024.0:\n",
    "            return \"%3.1f %s\" % (num, x)\n",
    "        num /= 1024.0\n",
    "\n",
    "if params['saveDataset']:\n",
    "    # save the dataset to a pickle file.\n",
    "    output = open(params['datasetFile'], 'wb')\n",
    "    pickle.dump(container, output)\n",
    "    output.close()\n",
    "\n",
    "    # save dataset preprocessing parameters\n",
    "    params['example_filtering'] = example_tag\n",
    "    params['handleItem'] = inspect.getsource(handleItem)\n",
    "    with open(params['paramsJSONLocation'], 'w') as outfile:\n",
    "        json.dump(params, outfile)\n",
    "\n",
    "    print(\"Saved!\", convert_bytes(os.stat(params['datasetFile']).st_size))\n",
    "    print(\"Save location:\", params['datasetFile'])\n",
    "    print(\"dataset parameters save location:\", params['paramsJSONLocation'])"
   ]
  },
  {
   "cell_type": "code",
   "execution_count": null,
   "metadata": {},
   "outputs": [],
   "source": []
  }
 ],
 "metadata": {
  "kernelspec": {
   "display_name": "Python 3",
   "language": "python",
   "name": "python3"
  },
  "language_info": {
   "codemirror_mode": {
    "name": "ipython",
    "version": 3
   },
   "file_extension": ".py",
   "mimetype": "text/x-python",
   "name": "python",
   "nbconvert_exporter": "python",
   "pygments_lexer": "ipython3",
   "version": "3.6.7"
  }
 },
 "nbformat": 4,
 "nbformat_minor": 2
}
